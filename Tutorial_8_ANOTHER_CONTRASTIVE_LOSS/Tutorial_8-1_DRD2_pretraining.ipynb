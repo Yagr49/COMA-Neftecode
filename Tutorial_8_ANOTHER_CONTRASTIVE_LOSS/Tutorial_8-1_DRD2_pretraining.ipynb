{
 "cells": [
  {
   "cell_type": "markdown",
   "id": "7fd855f6",
   "metadata": {},
   "source": [
    "# Tutorial - VAE pretraining with a traditional contrastive loss; contrastive loss"
   ]
  },
  {
   "cell_type": "markdown",
   "id": "e3e6563b",
   "metadata": {},
   "source": [
    "## 1. Import requirements"
   ]
  },
  {
   "cell_type": "code",
   "execution_count": 1,
   "id": "fad9b382",
   "metadata": {},
   "outputs": [],
   "source": [
    "import os\n",
    "import sys\n",
    "import pandas as pd\n",
    "import torch\n",
    "import time\n",
    "import matplotlib.pyplot as plt"
   ]
  },
  {
   "cell_type": "code",
   "execution_count": 2,
   "id": "a959c503",
   "metadata": {},
   "outputs": [],
   "source": [
    "sys.path = [os.path.abspath(os.path.join(os.getcwd(), os.pardir))] + sys.path"
   ]
  },
  {
   "cell_type": "code",
   "execution_count": 3,
   "id": "69485af7",
   "metadata": {},
   "outputs": [],
   "source": [
    "from COMA.dataset import TrainingSmilesDataset, ValidationSmilesDataset\n",
    "from vae_contrastive import SmilesAutoencoder"
   ]
  },
  {
   "cell_type": "markdown",
   "id": "d9188a4a",
   "metadata": {},
   "source": [
    "## 2. Configure GPU (if available)"
   ]
  },
  {
   "cell_type": "code",
   "execution_count": 4,
   "id": "edea664b",
   "metadata": {},
   "outputs": [
    {
     "name": "stdout",
     "output_type": "stream",
     "text": [
      "cuda:0\n"
     ]
    }
   ],
   "source": [
    "use_cuda = torch.cuda.is_available()\n",
    "device = torch.device(\"cuda:0\" if use_cuda else \"cpu\")\n",
    "print(device)"
   ]
  },
  {
   "cell_type": "markdown",
   "id": "6842acb0",
   "metadata": {},
   "source": [
    "## 3. Specify a target property"
   ]
  },
  {
   "cell_type": "code",
   "execution_count": 5,
   "id": "3c6d173e",
   "metadata": {},
   "outputs": [],
   "source": [
    "PROPERTY_NAME = \"drd2\""
   ]
  },
  {
   "cell_type": "markdown",
   "id": "f94c4961",
   "metadata": {},
   "source": [
    "## 4. Set directories (for inputs and outputs)"
   ]
  },
  {
   "cell_type": "code",
   "execution_count": 6,
   "id": "5386d37d",
   "metadata": {},
   "outputs": [],
   "source": [
    "input_dir = os.path.abspath(os.path.join(os.pardir, \"DATA\", PROPERTY_NAME))"
   ]
  },
  {
   "cell_type": "code",
   "execution_count": 7,
   "id": "380aebaa",
   "metadata": {},
   "outputs": [],
   "source": [
    "output_dir = f\"outputs_8-1_{PROPERTY_NAME.upper()}_pretraining\"\n",
    "if not os.path.exists(output_dir):\n",
    "    os.mkdir(output_dir)"
   ]
  },
  {
   "cell_type": "markdown",
   "id": "ae1a66b3",
   "metadata": {},
   "source": [
    "## 5. Set file names"
   ]
  },
  {
   "cell_type": "code",
   "execution_count": 8,
   "id": "6d2ba45e",
   "metadata": {},
   "outputs": [],
   "source": [
    "filepath_train = os.path.join(input_dir, \"rdkit_train_triplet.txt\")\n",
    "filepath_valid = os.path.join(input_dir, \"rdkit_valid.txt\")"
   ]
  },
  {
   "cell_type": "code",
   "execution_count": 9,
   "id": "167c5f99",
   "metadata": {},
   "outputs": [],
   "source": [
    "filepath_char2idx      = os.path.join(output_dir, \"char2idx.csv\")\n",
    "filepath_configs       = os.path.join(output_dir, \"configs.csv\")\n",
    "filepath_checkpoint    = os.path.join(output_dir, \"checkpoints.pt\")\n",
    "filepath_history       = os.path.join(output_dir, \"history.csv\")\n",
    "filepath_history_valid = os.path.join(output_dir, \"history_valid.csv\")"
   ]
  },
  {
   "cell_type": "markdown",
   "id": "9a33cf5f",
   "metadata": {},
   "source": [
    "## 6. Load datasets (for training and validation)"
   ]
  },
  {
   "cell_type": "code",
   "execution_count": 10,
   "id": "972d7340",
   "metadata": {},
   "outputs": [],
   "source": [
    "dataset = TrainingSmilesDataset(filepath_train, device=device)\n",
    "dataset.save_char2idx(filepath_char2idx)\n",
    "dataset_valid = ValidationSmilesDataset(filepath_valid, filepath_char2idx, device=device)"
   ]
  },
  {
   "cell_type": "markdown",
   "id": "4258325f",
   "metadata": {},
   "source": [
    "## 7. Initialize a generator of MTMR"
   ]
  },
  {
   "cell_type": "code",
   "execution_count": 11,
   "id": "d1f64604",
   "metadata": {},
   "outputs": [],
   "source": [
    "## Model configuration\n",
    "model_configs = {\"hidden_size\":128,\n",
    "                 \"latent_size\":128,\n",
    "                 \"num_layers\" :2,\n",
    "                 \"vocab_size\" :dataset.vocab_size,\n",
    "                 \"sos_idx\"    :dataset.sos_idx,\n",
    "                 \"eos_idx\"    :dataset.eos_idx,\n",
    "                 \"pad_idx\"    :dataset.pad_idx,\n",
    "                 \"device\"     :device\n",
    "                }\n",
    "\n",
    "## Model initialization\n",
    "generator = SmilesAutoencoder(**model_configs)\n",
    "\n",
    "## Configuration save\n",
    "generator.save_config(filepath_configs)"
   ]
  },
  {
   "cell_type": "markdown",
   "id": "5cc02af5",
   "metadata": {},
   "source": [
    "## 8. Train"
   ]
  },
  {
   "cell_type": "code",
   "execution_count": 12,
   "id": "94f3f528",
   "metadata": {
    "scrolled": true
   },
   "outputs": [
    {
     "name": "stdout",
     "output_type": "stream",
     "text": [
      "[00000000/00100000]  loss(tr): 4.823  loss_recon_src(tr): 3.377  loss_recon_tar(tr): 3.379  loss_recon_neg(tr): 3.380  loss_kld(tr): 2.124  loss_contrastive(tr): 1.010  valid_ratio(va): 0.134  similarity(va): 0.003\n",
      "[00001000/00100000]  loss(tr): 0.405  loss_recon_src(tr): 0.580  loss_recon_tar(tr): 0.383  loss_recon_neg(tr): 0.446  loss_kld(tr): 0.049  loss_contrastive(tr): 0.122\n",
      "[00002000/00100000]  loss(tr): 0.363  loss_recon_src(tr): 0.513  loss_recon_tar(tr): 0.320  loss_recon_neg(tr): 0.428  loss_kld(tr): 0.035  loss_contrastive(tr): 0.118\n",
      "[00003000/00100000]  loss(tr): 0.265  loss_recon_src(tr): 0.482  loss_recon_tar(tr): 0.254  loss_recon_neg(tr): 0.345  loss_kld(tr): 0.024  loss_contrastive(tr): 0.061\n",
      "[00004000/00100000]  loss(tr): 0.253  loss_recon_src(tr): 0.508  loss_recon_tar(tr): 0.272  loss_recon_neg(tr): 0.355  loss_kld(tr): 0.023  loss_contrastive(tr): 0.042\n",
      "[00005000/00100000]  loss(tr): 0.243  loss_recon_src(tr): 0.477  loss_recon_tar(tr): 0.228  loss_recon_neg(tr): 0.329  loss_kld(tr): 0.021  loss_contrastive(tr): 0.050\n",
      "[00006000/00100000]  loss(tr): 0.220  loss_recon_src(tr): 0.445  loss_recon_tar(tr): 0.231  loss_recon_neg(tr): 0.372  loss_kld(tr): 0.016  loss_contrastive(tr): 0.027\n",
      "[00007000/00100000]  loss(tr): 0.200  loss_recon_src(tr): 0.440  loss_recon_tar(tr): 0.216  loss_recon_neg(tr): 0.337  loss_kld(tr): 0.015  loss_contrastive(tr): 0.019\n",
      "[00008000/00100000]  loss(tr): 0.216  loss_recon_src(tr): 0.425  loss_recon_tar(tr): 0.214  loss_recon_neg(tr): 0.336  loss_kld(tr): 0.016  loss_contrastive(tr): 0.037\n",
      "[00009000/00100000]  loss(tr): 0.193  loss_recon_src(tr): 0.438  loss_recon_tar(tr): 0.206  loss_recon_neg(tr): 0.340  loss_kld(tr): 0.015  loss_contrastive(tr): 0.014\n",
      "[00010000/00100000]  loss(tr): 0.181  loss_recon_src(tr): 0.411  loss_recon_tar(tr): 0.195  loss_recon_neg(tr): 0.308  loss_kld(tr): 0.012  loss_contrastive(tr): 0.016  valid_ratio(va): 1.000  similarity(va): 0.158\n",
      "[00011000/00100000]  loss(tr): 0.193  loss_recon_src(tr): 0.417  loss_recon_tar(tr): 0.208  loss_recon_neg(tr): 0.293  loss_kld(tr): 0.011  loss_contrastive(tr): 0.029\n",
      "[00012000/00100000]  loss(tr): 0.189  loss_recon_src(tr): 0.416  loss_recon_tar(tr): 0.198  loss_recon_neg(tr): 0.306  loss_kld(tr): 0.010  loss_contrastive(tr): 0.026\n",
      "[00013000/00100000]  loss(tr): 0.194  loss_recon_src(tr): 0.394  loss_recon_tar(tr): 0.197  loss_recon_neg(tr): 0.322  loss_kld(tr): 0.009  loss_contrastive(tr): 0.033\n",
      "[00014000/00100000]  loss(tr): 0.175  loss_recon_src(tr): 0.412  loss_recon_tar(tr): 0.215  loss_recon_neg(tr): 0.289  loss_kld(tr): 0.009  loss_contrastive(tr): 0.014\n",
      "[00015000/00100000]  loss(tr): 0.186  loss_recon_src(tr): 0.386  loss_recon_tar(tr): 0.195  loss_recon_neg(tr): 0.277  loss_kld(tr): 0.007  loss_contrastive(tr): 0.037\n",
      "[00016000/00100000]  loss(tr): 0.176  loss_recon_src(tr): 0.401  loss_recon_tar(tr): 0.190  loss_recon_neg(tr): 0.307  loss_kld(tr): 0.008  loss_contrastive(tr): 0.018\n",
      "[00017000/00100000]  loss(tr): 0.176  loss_recon_src(tr): 0.407  loss_recon_tar(tr): 0.189  loss_recon_neg(tr): 0.291  loss_kld(tr): 0.007  loss_contrastive(tr): 0.022\n",
      "[00018000/00100000]  loss(tr): 0.164  loss_recon_src(tr): 0.374  loss_recon_tar(tr): 0.201  loss_recon_neg(tr): 0.258  loss_kld(tr): 0.007  loss_contrastive(tr): 0.019\n",
      "[00019000/00100000]  loss(tr): 0.173  loss_recon_src(tr): 0.394  loss_recon_tar(tr): 0.192  loss_recon_neg(tr): 0.312  loss_kld(tr): 0.006  loss_contrastive(tr): 0.017\n",
      "[00020000/00100000]  loss(tr): 0.185  loss_recon_src(tr): 0.360  loss_recon_tar(tr): 0.203  loss_recon_neg(tr): 0.316  loss_kld(tr): 0.007  loss_contrastive(tr): 0.030  valid_ratio(va): 1.000  similarity(va): 0.156\n",
      "[00021000/00100000]  loss(tr): 0.168  loss_recon_src(tr): 0.377  loss_recon_tar(tr): 0.205  loss_recon_neg(tr): 0.296  loss_kld(tr): 0.006  loss_contrastive(tr): 0.015\n",
      "[00022000/00100000]  loss(tr): 0.182  loss_recon_src(tr): 0.355  loss_recon_tar(tr): 0.180  loss_recon_neg(tr): 0.272  loss_kld(tr): 0.005  loss_contrastive(tr): 0.042\n",
      "[00023000/00100000]  loss(tr): 0.167  loss_recon_src(tr): 0.374  loss_recon_tar(tr): 0.196  loss_recon_neg(tr): 0.293  loss_kld(tr): 0.005  loss_contrastive(tr): 0.018\n",
      "[00024000/00100000]  loss(tr): 0.163  loss_recon_src(tr): 0.388  loss_recon_tar(tr): 0.189  loss_recon_neg(tr): 0.283  loss_kld(tr): 0.006  loss_contrastive(tr): 0.014\n",
      "[00025000/00100000]  loss(tr): 0.153  loss_recon_src(tr): 0.399  loss_recon_tar(tr): 0.189  loss_recon_neg(tr): 0.264  loss_kld(tr): 0.005  loss_contrastive(tr): 0.008\n",
      "[00026000/00100000]  loss(tr): 0.166  loss_recon_src(tr): 0.354  loss_recon_tar(tr): 0.192  loss_recon_neg(tr): 0.291  loss_kld(tr): 0.004  loss_contrastive(tr): 0.021\n",
      "[00027000/00100000]  loss(tr): 0.161  loss_recon_src(tr): 0.368  loss_recon_tar(tr): 0.188  loss_recon_neg(tr): 0.291  loss_kld(tr): 0.005  loss_contrastive(tr): 0.015\n",
      "[00028000/00100000]  loss(tr): 0.146  loss_recon_src(tr): 0.356  loss_recon_tar(tr): 0.174  loss_recon_neg(tr): 0.252  loss_kld(tr): 0.004  loss_contrastive(tr): 0.012\n",
      "[00029000/00100000]  loss(tr): 0.158  loss_recon_src(tr): 0.373  loss_recon_tar(tr): 0.192  loss_recon_neg(tr): 0.286  loss_kld(tr): 0.005  loss_contrastive(tr): 0.012\n",
      "[00030000/00100000]  loss(tr): 0.155  loss_recon_src(tr): 0.357  loss_recon_tar(tr): 0.189  loss_recon_neg(tr): 0.287  loss_kld(tr): 0.004  loss_contrastive(tr): 0.012  valid_ratio(va): 1.000  similarity(va): 0.157\n",
      "[00031000/00100000]  loss(tr): 0.152  loss_recon_src(tr): 0.343  loss_recon_tar(tr): 0.200  loss_recon_neg(tr): 0.287  loss_kld(tr): 0.004  loss_contrastive(tr): 0.009\n",
      "[00032000/00100000]  loss(tr): 0.155  loss_recon_src(tr): 0.353  loss_recon_tar(tr): 0.210  loss_recon_neg(tr): 0.270  loss_kld(tr): 0.004  loss_contrastive(tr): 0.013\n",
      "[00033000/00100000]  loss(tr): 0.151  loss_recon_src(tr): 0.326  loss_recon_tar(tr): 0.176  loss_recon_neg(tr): 0.268  loss_kld(tr): 0.004  loss_contrastive(tr): 0.018\n",
      "[00034000/00100000]  loss(tr): 0.148  loss_recon_src(tr): 0.376  loss_recon_tar(tr): 0.185  loss_recon_neg(tr): 0.264  loss_kld(tr): 0.003  loss_contrastive(tr): 0.008\n",
      "[00035000/00100000]  loss(tr): 0.149  loss_recon_src(tr): 0.345  loss_recon_tar(tr): 0.195  loss_recon_neg(tr): 0.281  loss_kld(tr): 0.003  loss_contrastive(tr): 0.009\n",
      "[00036000/00100000]  loss(tr): 0.158  loss_recon_src(tr): 0.378  loss_recon_tar(tr): 0.202  loss_recon_neg(tr): 0.274  loss_kld(tr): 0.003  loss_contrastive(tr): 0.012\n",
      "[00037000/00100000]  loss(tr): 0.138  loss_recon_src(tr): 0.319  loss_recon_tar(tr): 0.188  loss_recon_neg(tr): 0.269  loss_kld(tr): 0.003  loss_contrastive(tr): 0.005\n",
      "[00038000/00100000]  loss(tr): 0.146  loss_recon_src(tr): 0.370  loss_recon_tar(tr): 0.193  loss_recon_neg(tr): 0.267  loss_kld(tr): 0.003  loss_contrastive(tr): 0.005\n",
      "[00039000/00100000]  loss(tr): 0.150  loss_recon_src(tr): 0.359  loss_recon_tar(tr): 0.187  loss_recon_neg(tr): 0.283  loss_kld(tr): 0.004  loss_contrastive(tr): 0.008\n",
      "[00040000/00100000]  loss(tr): 0.139  loss_recon_src(tr): 0.333  loss_recon_tar(tr): 0.161  loss_recon_neg(tr): 0.275  loss_kld(tr): 0.003  loss_contrastive(tr): 0.007  valid_ratio(va): 1.000  similarity(va): 0.158\n",
      "[00041000/00100000]  loss(tr): 0.147  loss_recon_src(tr): 0.347  loss_recon_tar(tr): 0.176  loss_recon_neg(tr): 0.267  loss_kld(tr): 0.004  loss_contrastive(tr): 0.011\n",
      "[00042000/00100000]  loss(tr): 0.158  loss_recon_src(tr): 0.353  loss_recon_tar(tr): 0.196  loss_recon_neg(tr): 0.276  loss_kld(tr): 0.002  loss_contrastive(tr): 0.018\n",
      "[00043000/00100000]  loss(tr): 0.147  loss_recon_src(tr): 0.320  loss_recon_tar(tr): 0.185  loss_recon_neg(tr): 0.281  loss_kld(tr): 0.003  loss_contrastive(tr): 0.013\n",
      "[00044000/00100000]  loss(tr): 0.142  loss_recon_src(tr): 0.360  loss_recon_tar(tr): 0.170  loss_recon_neg(tr): 0.272  loss_kld(tr): 0.003  loss_contrastive(tr): 0.004\n",
      "[00045000/00100000]  loss(tr): 0.149  loss_recon_src(tr): 0.354  loss_recon_tar(tr): 0.183  loss_recon_neg(tr): 0.279  loss_kld(tr): 0.002  loss_contrastive(tr): 0.010\n",
      "[00046000/00100000]  loss(tr): 0.140  loss_recon_src(tr): 0.351  loss_recon_tar(tr): 0.185  loss_recon_neg(tr): 0.262  loss_kld(tr): 0.003  loss_contrastive(tr): 0.005\n",
      "[00047000/00100000]  loss(tr): 0.144  loss_recon_src(tr): 0.349  loss_recon_tar(tr): 0.186  loss_recon_neg(tr): 0.260  loss_kld(tr): 0.002  loss_contrastive(tr): 0.009\n"
     ]
    },
    {
     "name": "stdout",
     "output_type": "stream",
     "text": [
      "[00048000/00100000]  loss(tr): 0.147  loss_recon_src(tr): 0.322  loss_recon_tar(tr): 0.175  loss_recon_neg(tr): 0.275  loss_kld(tr): 0.002  loss_contrastive(tr): 0.015\n",
      "[00049000/00100000]  loss(tr): 0.140  loss_recon_src(tr): 0.348  loss_recon_tar(tr): 0.178  loss_recon_neg(tr): 0.266  loss_kld(tr): 0.002  loss_contrastive(tr): 0.006\n",
      "[00050000/00100000]  loss(tr): 0.139  loss_recon_src(tr): 0.344  loss_recon_tar(tr): 0.182  loss_recon_neg(tr): 0.254  loss_kld(tr): 0.003  loss_contrastive(tr): 0.007  valid_ratio(va): 1.000  similarity(va): 0.158\n",
      "[00051000/00100000]  loss(tr): 0.147  loss_recon_src(tr): 0.350  loss_recon_tar(tr): 0.177  loss_recon_neg(tr): 0.260  loss_kld(tr): 0.002  loss_contrastive(tr): 0.014\n",
      "[00052000/00100000]  loss(tr): 0.140  loss_recon_src(tr): 0.336  loss_recon_tar(tr): 0.176  loss_recon_neg(tr): 0.242  loss_kld(tr): 0.003  loss_contrastive(tr): 0.012\n",
      "[00053000/00100000]  loss(tr): 0.137  loss_recon_src(tr): 0.331  loss_recon_tar(tr): 0.180  loss_recon_neg(tr): 0.267  loss_kld(tr): 0.003  loss_contrastive(tr): 0.004\n",
      "[00054000/00100000]  loss(tr): 0.147  loss_recon_src(tr): 0.365  loss_recon_tar(tr): 0.183  loss_recon_neg(tr): 0.270  loss_kld(tr): 0.003  loss_contrastive(tr): 0.008\n",
      "[00055000/00100000]  loss(tr): 0.139  loss_recon_src(tr): 0.317  loss_recon_tar(tr): 0.194  loss_recon_neg(tr): 0.269  loss_kld(tr): 0.002  loss_contrastive(tr): 0.007\n",
      "[00056000/00100000]  loss(tr): 0.142  loss_recon_src(tr): 0.348  loss_recon_tar(tr): 0.187  loss_recon_neg(tr): 0.256  loss_kld(tr): 0.002  loss_contrastive(tr): 0.008\n",
      "[00057000/00100000]  loss(tr): 0.144  loss_recon_src(tr): 0.341  loss_recon_tar(tr): 0.180  loss_recon_neg(tr): 0.280  loss_kld(tr): 0.003  loss_contrastive(tr): 0.008\n",
      "[00058000/00100000]  loss(tr): 0.145  loss_recon_src(tr): 0.357  loss_recon_tar(tr): 0.179  loss_recon_neg(tr): 0.259  loss_kld(tr): 0.003  loss_contrastive(tr): 0.010\n",
      "[00059000/00100000]  loss(tr): 0.142  loss_recon_src(tr): 0.334  loss_recon_tar(tr): 0.190  loss_recon_neg(tr): 0.255  loss_kld(tr): 0.003  loss_contrastive(tr): 0.010\n",
      "[00060000/00100000]  loss(tr): 0.130  loss_recon_src(tr): 0.321  loss_recon_tar(tr): 0.181  loss_recon_neg(tr): 0.241  loss_kld(tr): 0.002  loss_contrastive(tr): 0.004  valid_ratio(va): 1.000  similarity(va): 0.159\n",
      "[00061000/00100000]  loss(tr): 0.140  loss_recon_src(tr): 0.340  loss_recon_tar(tr): 0.175  loss_recon_neg(tr): 0.265  loss_kld(tr): 0.003  loss_contrastive(tr): 0.007\n",
      "[00062000/00100000]  loss(tr): 0.138  loss_recon_src(tr): 0.346  loss_recon_tar(tr): 0.185  loss_recon_neg(tr): 0.238  loss_kld(tr): 0.003  loss_contrastive(tr): 0.008\n",
      "[00063000/00100000]  loss(tr): 0.138  loss_recon_src(tr): 0.341  loss_recon_tar(tr): 0.189  loss_recon_neg(tr): 0.258  loss_kld(tr): 0.001  loss_contrastive(tr): 0.005\n",
      "[00064000/00100000]  loss(tr): 0.134  loss_recon_src(tr): 0.332  loss_recon_tar(tr): 0.175  loss_recon_neg(tr): 0.247  loss_kld(tr): 0.002  loss_contrastive(tr): 0.006\n",
      "[00065000/00100000]  loss(tr): 0.144  loss_recon_src(tr): 0.332  loss_recon_tar(tr): 0.186  loss_recon_neg(tr): 0.269  loss_kld(tr): 0.002  loss_contrastive(tr): 0.010\n",
      "[00066000/00100000]  loss(tr): 0.141  loss_recon_src(tr): 0.357  loss_recon_tar(tr): 0.176  loss_recon_neg(tr): 0.271  loss_kld(tr): 0.002  loss_contrastive(tr): 0.005\n",
      "[00067000/00100000]  loss(tr): 0.134  loss_recon_src(tr): 0.330  loss_recon_tar(tr): 0.174  loss_recon_neg(tr): 0.257  loss_kld(tr): 0.002  loss_contrastive(tr): 0.005\n",
      "[00068000/00100000]  loss(tr): 0.144  loss_recon_src(tr): 0.360  loss_recon_tar(tr): 0.182  loss_recon_neg(tr): 0.273  loss_kld(tr): 0.002  loss_contrastive(tr): 0.006\n",
      "[00069000/00100000]  loss(tr): 0.137  loss_recon_src(tr): 0.324  loss_recon_tar(tr): 0.180  loss_recon_neg(tr): 0.265  loss_kld(tr): 0.002  loss_contrastive(tr): 0.007\n",
      "[00070000/00100000]  loss(tr): 0.135  loss_recon_src(tr): 0.325  loss_recon_tar(tr): 0.179  loss_recon_neg(tr): 0.253  loss_kld(tr): 0.002  loss_contrastive(tr): 0.007  valid_ratio(va): 1.000  similarity(va): 0.159\n",
      "[00071000/00100000]  loss(tr): 0.130  loss_recon_src(tr): 0.319  loss_recon_tar(tr): 0.180  loss_recon_neg(tr): 0.248  loss_kld(tr): 0.002  loss_contrastive(tr): 0.004\n",
      "[00072000/00100000]  loss(tr): 0.137  loss_recon_src(tr): 0.321  loss_recon_tar(tr): 0.178  loss_recon_neg(tr): 0.266  loss_kld(tr): 0.002  loss_contrastive(tr): 0.007\n",
      "[00073000/00100000]  loss(tr): 0.136  loss_recon_src(tr): 0.329  loss_recon_tar(tr): 0.180  loss_recon_neg(tr): 0.271  loss_kld(tr): 0.002  loss_contrastive(tr): 0.004\n",
      "[00074000/00100000]  loss(tr): 0.141  loss_recon_src(tr): 0.329  loss_recon_tar(tr): 0.179  loss_recon_neg(tr): 0.259  loss_kld(tr): 0.002  loss_contrastive(tr): 0.010\n",
      "[00075000/00100000]  loss(tr): 0.139  loss_recon_src(tr): 0.327  loss_recon_tar(tr): 0.175  loss_recon_neg(tr): 0.255  loss_kld(tr): 0.002  loss_contrastive(tr): 0.011\n",
      "[00076000/00100000]  loss(tr): 0.130  loss_recon_src(tr): 0.331  loss_recon_tar(tr): 0.183  loss_recon_neg(tr): 0.234  loss_kld(tr): 0.002  loss_contrastive(tr): 0.004\n",
      "[00077000/00100000]  loss(tr): 0.133  loss_recon_src(tr): 0.357  loss_recon_tar(tr): 0.174  loss_recon_neg(tr): 0.242  loss_kld(tr): 0.002  loss_contrastive(tr): 0.003\n",
      "[00078000/00100000]  loss(tr): 0.134  loss_recon_src(tr): 0.325  loss_recon_tar(tr): 0.177  loss_recon_neg(tr): 0.256  loss_kld(tr): 0.002  loss_contrastive(tr): 0.005\n",
      "[00079000/00100000]  loss(tr): 0.143  loss_recon_src(tr): 0.333  loss_recon_tar(tr): 0.184  loss_recon_neg(tr): 0.267  loss_kld(tr): 0.002  loss_contrastive(tr): 0.010\n",
      "[00080000/00100000]  loss(tr): 0.137  loss_recon_src(tr): 0.329  loss_recon_tar(tr): 0.178  loss_recon_neg(tr): 0.272  loss_kld(tr): 0.003  loss_contrastive(tr): 0.004  valid_ratio(va): 1.000  similarity(va): 0.158\n",
      "[00081000/00100000]  loss(tr): 0.134  loss_recon_src(tr): 0.339  loss_recon_tar(tr): 0.173  loss_recon_neg(tr): 0.253  loss_kld(tr): 0.002  loss_contrastive(tr): 0.005\n",
      "[00082000/00100000]  loss(tr): 0.134  loss_recon_src(tr): 0.327  loss_recon_tar(tr): 0.178  loss_recon_neg(tr): 0.263  loss_kld(tr): 0.002  loss_contrastive(tr): 0.004\n",
      "[00083000/00100000]  loss(tr): 0.143  loss_recon_src(tr): 0.329  loss_recon_tar(tr): 0.168  loss_recon_neg(tr): 0.294  loss_kld(tr): 0.001  loss_contrastive(tr): 0.008\n",
      "[00084000/00100000]  loss(tr): 0.134  loss_recon_src(tr): 0.334  loss_recon_tar(tr): 0.184  loss_recon_neg(tr): 0.247  loss_kld(tr): 0.002  loss_contrastive(tr): 0.005\n",
      "[00085000/00100000]  loss(tr): 0.135  loss_recon_src(tr): 0.316  loss_recon_tar(tr): 0.179  loss_recon_neg(tr): 0.272  loss_kld(tr): 0.002  loss_contrastive(tr): 0.005\n",
      "[00086000/00100000]  loss(tr): 0.141  loss_recon_src(tr): 0.351  loss_recon_tar(tr): 0.184  loss_recon_neg(tr): 0.259  loss_kld(tr): 0.002  loss_contrastive(tr): 0.006\n",
      "[00087000/00100000]  loss(tr): 0.130  loss_recon_src(tr): 0.332  loss_recon_tar(tr): 0.174  loss_recon_neg(tr): 0.243  loss_kld(tr): 0.002  loss_contrastive(tr): 0.003\n",
      "[00088000/00100000]  loss(tr): 0.136  loss_recon_src(tr): 0.327  loss_recon_tar(tr): 0.177  loss_recon_neg(tr): 0.260  loss_kld(tr): 0.002  loss_contrastive(tr): 0.007\n",
      "[00089000/00100000]  loss(tr): 0.135  loss_recon_src(tr): 0.326  loss_recon_tar(tr): 0.173  loss_recon_neg(tr): 0.259  loss_kld(tr): 0.002  loss_contrastive(tr): 0.006\n",
      "[00090000/00100000]  loss(tr): 0.150  loss_recon_src(tr): 0.323  loss_recon_tar(tr): 0.184  loss_recon_neg(tr): 0.266  loss_kld(tr): 0.002  loss_contrastive(tr): 0.019  valid_ratio(va): 1.000  similarity(va): 0.158\n",
      "[00091000/00100000]  loss(tr): 0.136  loss_recon_src(tr): 0.346  loss_recon_tar(tr): 0.177  loss_recon_neg(tr): 0.261  loss_kld(tr): 0.002  loss_contrastive(tr): 0.004\n",
      "[00092000/00100000]  loss(tr): 0.134  loss_recon_src(tr): 0.332  loss_recon_tar(tr): 0.174  loss_recon_neg(tr): 0.265  loss_kld(tr): 0.002  loss_contrastive(tr): 0.004\n",
      "[00093000/00100000]  loss(tr): 0.138  loss_recon_src(tr): 0.340  loss_recon_tar(tr): 0.170  loss_recon_neg(tr): 0.252  loss_kld(tr): 0.002  loss_contrastive(tr): 0.009\n",
      "[00094000/00100000]  loss(tr): 0.138  loss_recon_src(tr): 0.322  loss_recon_tar(tr): 0.176  loss_recon_neg(tr): 0.257  loss_kld(tr): 0.002  loss_contrastive(tr): 0.010\n",
      "[00095000/00100000]  loss(tr): 0.133  loss_recon_src(tr): 0.306  loss_recon_tar(tr): 0.176  loss_recon_neg(tr): 0.262  loss_kld(tr): 0.002  loss_contrastive(tr): 0.006\n"
     ]
    },
    {
     "name": "stdout",
     "output_type": "stream",
     "text": [
      "[00096000/00100000]  loss(tr): 0.135  loss_recon_src(tr): 0.335  loss_recon_tar(tr): 0.184  loss_recon_neg(tr): 0.243  loss_kld(tr): 0.002  loss_contrastive(tr): 0.006\n",
      "[00097000/00100000]  loss(tr): 0.137  loss_recon_src(tr): 0.338  loss_recon_tar(tr): 0.175  loss_recon_neg(tr): 0.275  loss_kld(tr): 0.001  loss_contrastive(tr): 0.004\n",
      "[00098000/00100000]  loss(tr): 0.144  loss_recon_src(tr): 0.343  loss_recon_tar(tr): 0.191  loss_recon_neg(tr): 0.294  loss_kld(tr): 0.002  loss_contrastive(tr): 0.003\n",
      "[00099000/00100000]  loss(tr): 0.144  loss_recon_src(tr): 0.333  loss_recon_tar(tr): 0.181  loss_recon_neg(tr): 0.272  loss_kld(tr): 0.002  loss_contrastive(tr): 0.011\n",
      "[00100000/00100000]  loss(tr): 0.131  loss_recon_src(tr): 0.326  loss_recon_tar(tr): 0.189  loss_recon_neg(tr): 0.242  loss_kld(tr): 0.002  loss_contrastive(tr): 0.004  valid_ratio(va): 1.000  similarity(va): 0.158\n"
     ]
    }
   ],
   "source": [
    "df_history, df_history_valid = generator.fit(dataset,\n",
    "                                             validation_dataset=dataset_valid,\n",
    "                                             checkpoint_filepath=filepath_checkpoint)\n",
    "\n",
    "df_history.to_csv(filepath_history, index=False)\n",
    "df_history_valid.to_csv(filepath_history_valid, index=False)"
   ]
  },
  {
   "cell_type": "markdown",
   "id": "bf57d085",
   "metadata": {},
   "source": [
    "## 9. Visualize for loss analysis"
   ]
  },
  {
   "cell_type": "code",
   "execution_count": 13,
   "id": "21dd2945",
   "metadata": {},
   "outputs": [
    {
     "data": {
      "image/png": "[encoded data removed]",
      "text/plain": [
       "<Figure size 576x576 with 4 Axes>"
      ]
     },
     "metadata": {
      "needs_background": "light"
     },
     "output_type": "display_data"
    }
   ],
   "source": [
    "fig, axes = plt.subplots(4,1,figsize=(8,8))\n",
    "\n",
    "axes[0].plot(df_history.loc[:,\"LOSS_TOTAL\"], label=\"Total loss\")\n",
    "axes[1].plot(df_history.loc[:,\"LOSS_RECONSTRUCTION_SOURCE\"], label=\"Recon. loss (src)\")\n",
    "axes[1].plot(df_history.loc[:,\"LOSS_RECONSTRUCTION_TARGET\"], label=\"Recon. loss (tar)\")\n",
    "axes[1].plot(df_history.loc[:,\"LOSS_RECONSTRUCTION_NEGATIVE\"], label=\"Recon. loss (neg)\")\n",
    "axes[2].plot(df_history.loc[:,\"LOSS_KL_DIVERGENCE\"], label=\"KLD loss (src,tar)\")\n",
    "axes[3].plot(df_history.loc[:,\"LOSS_CONTRASTIVE\"], label=\"Contrastive loss (src,tar,neg)\")\n",
    "\n",
    "axes[3].set_xlabel(\"Iteration\")\n",
    "for ax in axes:\n",
    "    ax.legend(loc='best')\n",
    "\n",
    "plt.tight_layout()\n",
    "plt.show()"
   ]
  },
  {
   "cell_type": "code",
   "execution_count": 14,
   "id": "dbdc7e40",
   "metadata": {},
   "outputs": [
    {
     "data": {
      "image/png": "[encoded data removed]",
      "text/plain": [
       "<Figure size 576x288 with 2 Axes>"
      ]
     },
     "metadata": {
      "needs_background": "light"
     },
     "output_type": "display_data"
    }
   ],
   "source": [
    "fig, axes = plt.subplots(2,1,figsize=(8,4))\n",
    "\n",
    "axes[0].plot(df_history_valid.loc[:,\"VALID_RATIO\"], label=\"Validity\")\n",
    "axes[1].plot(df_history_valid.loc[:,\"AVERAGE_SIMILARITY\"], label=\"Tanimoto coeff.\")\n",
    "\n",
    "axes[1].set_xlabel(\"Iteration\")\n",
    "for ax in axes:\n",
    "    ax.legend(loc='best')\n",
    "\n",
    "plt.tight_layout()\n",
    "plt.show()"
   ]
  },
  {
   "cell_type": "code",
   "execution_count": null,
   "id": "330ad8c4",
   "metadata": {},
   "outputs": [],
   "source": []
  }
 ],
 "metadata": {
  "kernelspec": {
   "display_name": "Python 3",
   "language": "python",
   "name": "python3"
  },
  "language_info": {
   "codemirror_mode": {
    "name": "ipython",
    "version": 3
   },
   "file_extension": ".py",
   "mimetype": "text/x-python",
   "name": "python",
   "nbconvert_exporter": "python",
   "pygments_lexer": "ipython3",
   "version": "3.6.15"
  }
 },
 "nbformat": 4,
 "nbformat_minor": 5
}
