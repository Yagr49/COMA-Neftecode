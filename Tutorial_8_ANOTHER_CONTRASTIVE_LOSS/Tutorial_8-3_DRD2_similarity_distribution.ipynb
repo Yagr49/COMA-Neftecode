{
 "cells": [
  {
   "cell_type": "code",
   "execution_count": 1,
   "id": "7f65b17c",
   "metadata": {},
   "outputs": [],
   "source": [
    "import os\n",
    "import sys\n",
    "import numpy as np\n",
    "import pandas as pd\n",
    "import tqdm\n",
    "import seaborn as sns\n",
    "import matplotlib.pyplot as plt"
   ]
  },
  {
   "cell_type": "code",
   "execution_count": 2,
   "id": "ae95366c",
   "metadata": {},
   "outputs": [],
   "source": [
    "PROPERTY_NAME = \"drd2\""
   ]
  },
  {
   "cell_type": "code",
   "execution_count": 3,
   "id": "3834989a",
   "metadata": {},
   "outputs": [],
   "source": [
    "filepath_COMA = os.path.join('..', 'Tutorial_1_DRD2', f\"outputs_1-4_{PROPERTY_NAME.upper()}_translation\",  f\"COMA_{PROPERTY_NAME.upper()}.csv\")\n",
    "filepath_TRIPLET = os.path.join('..', 'Tutorial_7_ANOTHER_METRIC_LOSS', f\"outputs_7-2_{PROPERTY_NAME.upper()}_generation\", f\"TRIPLET_{PROPERTY_NAME.upper()}.csv\")\n",
    "filepath_CONTRASTIVE = os.path.join(f\"outputs_8-2_{PROPERTY_NAME.upper()}_generation\", f\"CONTRASTIVE_{PROPERTY_NAME.upper()}.csv\")"
   ]
  },
  {
   "cell_type": "code",
   "execution_count": 4,
   "id": "8baf6dee",
   "metadata": {},
   "outputs": [],
   "source": [
    "output_dir = f\"outputs_8-3_{PROPERTY_NAME.upper()}_similarity_distribution\"\n",
    "if not os.path.exists(output_dir):\n",
    "    os.mkdir(output_dir)"
   ]
  },
  {
   "cell_type": "code",
   "execution_count": 5,
   "id": "ef1bb23d",
   "metadata": {},
   "outputs": [],
   "source": [
    "df_COMA = pd.read_csv(filepath_COMA, header=None).fillna(\"\").rename(columns={0:\"SOURCE\", 1:\"TARGET\", 2:\"SIMILARITY\", 3:\"PROPERTY\"})\n",
    "df_TRIPLET = pd.read_csv(filepath_TRIPLET, header=None).fillna(\"\").rename(columns={0:\"SOURCE\", 1:\"TARGET\", 2:\"SIMILARITY\", 3:\"PROPERTY\"})\n",
    "df_CONTRASTIVE = pd.read_csv(filepath_CONTRASTIVE, header=None).fillna(\"\").rename(columns={0:\"SOURCE\", 1:\"TARGET\", 2:\"SIMILARITY\", 3:\"PROPERTY\"})"
   ]
  },
  {
   "cell_type": "code",
   "execution_count": 6,
   "id": "890f6ada",
   "metadata": {},
   "outputs": [],
   "source": [
    "df_COMA = df_COMA.groupby('SOURCE').max()\n",
    "df_TRIPLET = df_TRIPLET.groupby('SOURCE').max()\n",
    "df_CONTRASTIVE = df_CONTRASTIVE.groupby('SOURCE').max()"
   ]
  },
  {
   "cell_type": "code",
   "execution_count": 7,
   "id": "efcbfab6",
   "metadata": {},
   "outputs": [],
   "source": [
    "df_COMA = df_COMA[df_COMA['SIMILARITY'] > 0]\n",
    "df_TRIPLET = df_TRIPLET[df_TRIPLET['SIMILARITY'] > 0]\n",
    "df_CONTRASTIVE = df_CONTRASTIVE[df_CONTRASTIVE['SIMILARITY'] > 0]"
   ]
  },
  {
   "cell_type": "code",
   "execution_count": 8,
   "id": "c11257e8",
   "metadata": {},
   "outputs": [],
   "source": [
    "df_COMA.loc[:,'MODEL'] = 'COMA'\n",
    "df_TRIPLET.loc[:,'MODEL'] = 'TRIPLET'\n",
    "df_CONTRASTIVE.loc[:,'MODEL'] = 'CONTRASTIVE'\n",
    "df_merged = pd.concat((df_COMA, df_TRIPLET, df_CONTRASTIVE), ignore_index=True)"
   ]
  },
  {
   "cell_type": "code",
   "execution_count": 9,
   "id": "b7c058dc",
   "metadata": {},
   "outputs": [
    {
     "data": {
      "text/html": [
       "<div>\n",
       "<style scoped>\n",
       "    .dataframe tbody tr th:only-of-type {\n",
       "        vertical-align: middle;\n",
       "    }\n",
       "\n",
       "    .dataframe tbody tr th {\n",
       "        vertical-align: top;\n",
       "    }\n",
       "\n",
       "    .dataframe thead th {\n",
       "        text-align: right;\n",
       "    }\n",
       "</style>\n",
       "<table border=\"1\" class=\"dataframe\">\n",
       "  <thead>\n",
       "    <tr style=\"text-align: right;\">\n",
       "      <th></th>\n",
       "      <th>TARGET</th>\n",
       "      <th>SIMILARITY</th>\n",
       "      <th>PROPERTY</th>\n",
       "      <th>MODEL</th>\n",
       "    </tr>\n",
       "  </thead>\n",
       "  <tbody>\n",
       "    <tr>\n",
       "      <th>0</th>\n",
       "      <td>COC1CCN(CCCCC2=CNC3=CC=CC=C23)CC1</td>\n",
       "      <td>0.155172</td>\n",
       "      <td>1.000000</td>\n",
       "      <td>COMA</td>\n",
       "    </tr>\n",
       "    <tr>\n",
       "      <th>1</th>\n",
       "      <td>C#CCN1CCN(CCCCNC(=O)NCCCCN2CCN(C3=CC=CC=C3)CC2...</td>\n",
       "      <td>0.380952</td>\n",
       "      <td>0.585273</td>\n",
       "      <td>COMA</td>\n",
       "    </tr>\n",
       "    <tr>\n",
       "      <th>2</th>\n",
       "      <td>COC(=O)NCCCCN1CCN(C2=CC=C(Cl)C=C2)CC1</td>\n",
       "      <td>0.323077</td>\n",
       "      <td>0.843600</td>\n",
       "      <td>COMA</td>\n",
       "    </tr>\n",
       "    <tr>\n",
       "      <th>3</th>\n",
       "      <td>COCCN1CCN(CCCCCN2CCN(C3=CC=CC(Cl)=C3)CC2)CC1</td>\n",
       "      <td>0.369231</td>\n",
       "      <td>0.885185</td>\n",
       "      <td>COMA</td>\n",
       "    </tr>\n",
       "    <tr>\n",
       "      <th>4</th>\n",
       "      <td>CCN(CC)CC1=CC=C(C(=O)NCCCCN2CCC(C3=CC=C(Cl)C=C...</td>\n",
       "      <td>0.287671</td>\n",
       "      <td>0.993340</td>\n",
       "      <td>COMA</td>\n",
       "    </tr>\n",
       "    <tr>\n",
       "      <th>...</th>\n",
       "      <td>...</td>\n",
       "      <td>...</td>\n",
       "      <td>...</td>\n",
       "      <td>...</td>\n",
       "    </tr>\n",
       "    <tr>\n",
       "      <th>2995</th>\n",
       "      <td>OC1=C2C=CC=CC2=C(N2CCN(CC=CC3=CC=CC=C3)CC2)O1</td>\n",
       "      <td>0.179104</td>\n",
       "      <td>0.999999</td>\n",
       "      <td>CONTRASTIVE</td>\n",
       "    </tr>\n",
       "    <tr>\n",
       "      <th>2996</th>\n",
       "      <td>O=C1OC(C2=CC=C3CCCCC3=NC2=C1)N1CC=C(C2=CNC3=CC...</td>\n",
       "      <td>0.188406</td>\n",
       "      <td>0.985475</td>\n",
       "      <td>CONTRASTIVE</td>\n",
       "    </tr>\n",
       "    <tr>\n",
       "      <th>2997</th>\n",
       "      <td>OC1=NC2=CC=CC=C2N1C1CCN(CC2=CSC3=CC=CC=C23)CC1</td>\n",
       "      <td>0.194030</td>\n",
       "      <td>0.999998</td>\n",
       "      <td>CONTRASTIVE</td>\n",
       "    </tr>\n",
       "    <tr>\n",
       "      <th>2998</th>\n",
       "      <td>O=[N+]([O-])C1=CC=C(OCCNCCCOC2=CC=CC=C2)C=C1</td>\n",
       "      <td>0.202532</td>\n",
       "      <td>0.999998</td>\n",
       "      <td>CONTRASTIVE</td>\n",
       "    </tr>\n",
       "    <tr>\n",
       "      <th>2999</th>\n",
       "      <td>O=C1C2=CC=CC=C2C(=O)N1CCCCCN1CC=C(C2=CNC3=CC=C...</td>\n",
       "      <td>0.265625</td>\n",
       "      <td>0.995939</td>\n",
       "      <td>CONTRASTIVE</td>\n",
       "    </tr>\n",
       "  </tbody>\n",
       "</table>\n",
       "<p>3000 rows × 4 columns</p>\n",
       "</div>"
      ],
      "text/plain": [
       "                                                 TARGET  SIMILARITY  PROPERTY  \\\n",
       "0                     COC1CCN(CCCCC2=CNC3=CC=CC=C23)CC1    0.155172  1.000000   \n",
       "1     C#CCN1CCN(CCCCNC(=O)NCCCCN2CCN(C3=CC=CC=C3)CC2...    0.380952  0.585273   \n",
       "2                 COC(=O)NCCCCN1CCN(C2=CC=C(Cl)C=C2)CC1    0.323077  0.843600   \n",
       "3          COCCN1CCN(CCCCCN2CCN(C3=CC=CC(Cl)=C3)CC2)CC1    0.369231  0.885185   \n",
       "4     CCN(CC)CC1=CC=C(C(=O)NCCCCN2CCC(C3=CC=C(Cl)C=C...    0.287671  0.993340   \n",
       "...                                                 ...         ...       ...   \n",
       "2995      OC1=C2C=CC=CC2=C(N2CCN(CC=CC3=CC=CC=C3)CC2)O1    0.179104  0.999999   \n",
       "2996  O=C1OC(C2=CC=C3CCCCC3=NC2=C1)N1CC=C(C2=CNC3=CC...    0.188406  0.985475   \n",
       "2997     OC1=NC2=CC=CC=C2N1C1CCN(CC2=CSC3=CC=CC=C23)CC1    0.194030  0.999998   \n",
       "2998       O=[N+]([O-])C1=CC=C(OCCNCCCOC2=CC=CC=C2)C=C1    0.202532  0.999998   \n",
       "2999  O=C1C2=CC=CC=C2C(=O)N1CCCCCN1CC=C(C2=CNC3=CC=C...    0.265625  0.995939   \n",
       "\n",
       "            MODEL  \n",
       "0            COMA  \n",
       "1            COMA  \n",
       "2            COMA  \n",
       "3            COMA  \n",
       "4            COMA  \n",
       "...           ...  \n",
       "2995  CONTRASTIVE  \n",
       "2996  CONTRASTIVE  \n",
       "2997  CONTRASTIVE  \n",
       "2998  CONTRASTIVE  \n",
       "2999  CONTRASTIVE  \n",
       "\n",
       "[3000 rows x 4 columns]"
      ]
     },
     "execution_count": 9,
     "metadata": {},
     "output_type": "execute_result"
    }
   ],
   "source": [
    "df_merged"
   ]
  },
  {
   "cell_type": "code",
   "execution_count": 10,
   "id": "98a8cc62",
   "metadata": {},
   "outputs": [
    {
     "data": {
      "text/html": [
       "<div>\n",
       "<style scoped>\n",
       "    .dataframe tbody tr th:only-of-type {\n",
       "        vertical-align: middle;\n",
       "    }\n",
       "\n",
       "    .dataframe tbody tr th {\n",
       "        vertical-align: top;\n",
       "    }\n",
       "\n",
       "    .dataframe thead th {\n",
       "        text-align: right;\n",
       "    }\n",
       "</style>\n",
       "<table border=\"1\" class=\"dataframe\">\n",
       "  <thead>\n",
       "    <tr style=\"text-align: right;\">\n",
       "      <th></th>\n",
       "      <th>SIMILARITY</th>\n",
       "      <th>PROPERTY</th>\n",
       "    </tr>\n",
       "    <tr>\n",
       "      <th>MODEL</th>\n",
       "      <th></th>\n",
       "      <th></th>\n",
       "    </tr>\n",
       "  </thead>\n",
       "  <tbody>\n",
       "    <tr>\n",
       "      <th>COMA</th>\n",
       "      <td>0.422689</td>\n",
       "      <td>0.978621</td>\n",
       "    </tr>\n",
       "    <tr>\n",
       "      <th>CONTRASTIVE</th>\n",
       "      <td>0.261695</td>\n",
       "      <td>0.989856</td>\n",
       "    </tr>\n",
       "    <tr>\n",
       "      <th>TRIPLET</th>\n",
       "      <td>0.269247</td>\n",
       "      <td>0.990497</td>\n",
       "    </tr>\n",
       "  </tbody>\n",
       "</table>\n",
       "</div>"
      ],
      "text/plain": [
       "             SIMILARITY  PROPERTY\n",
       "MODEL                            \n",
       "COMA           0.422689  0.978621\n",
       "CONTRASTIVE    0.261695  0.989856\n",
       "TRIPLET        0.269247  0.990497"
      ]
     },
     "execution_count": 10,
     "metadata": {},
     "output_type": "execute_result"
    }
   ],
   "source": [
    "df_merged.groupby('MODEL').mean()"
   ]
  },
  {
   "cell_type": "code",
   "execution_count": 13,
   "id": "f1cbfa96",
   "metadata": {},
   "outputs": [],
   "source": [
    "model2label = {'COMA':'contrative & margin (0.423)',\n",
    "               'TRIPLET':'triplet loss (0.269)',\n",
    "               'CONTRASTIVE':'contrastive loss (0.262)'}\n",
    "\n",
    "df_merged.loc[:,'LABEL'] = df_merged.loc[:,'MODEL'].map(lambda x:model2label.get(x))"
   ]
  },
  {
   "cell_type": "code",
   "execution_count": 15,
   "id": "af76f050",
   "metadata": {},
   "outputs": [
    {
     "data": {
      "image/png": "[encoded data removed]",
      "text/plain": [
       "<Figure size 432x216 with 1 Axes>"
      ]
     },
     "metadata": {},
     "output_type": "display_data"
    }
   ],
   "source": [
    "sns.set_theme(style='whitegrid')\n",
    "\n",
    "fig, ax = plt.subplots(1,1,figsize=(6,3))\n",
    "\n",
    "ax = sns.kdeplot(data=df_merged, x='SIMILARITY', hue='LABEL', legend=True, fill=True, ax=ax)\n",
    "\n",
    "ax.axvline(x=0.423, c='k', linewidth=1., linestyle='--', label=None)\n",
    "ax.axvline(x=0.269, c='k', linewidth=1., linestyle='--', label=None)\n",
    "\n",
    "plt.tight_layout()\n",
    "plt.savefig(os.path.join(output_dir, 'kde_plots.png'), dpi=300)\n",
    "plt.show()"
   ]
  },
  {
   "cell_type": "code",
   "execution_count": null,
   "id": "a09e263c",
   "metadata": {},
   "outputs": [],
   "source": []
  }
 ],
 "metadata": {
  "kernelspec": {
   "display_name": "Python 3",
   "language": "python",
   "name": "python3"
  },
  "language_info": {
   "codemirror_mode": {
    "name": "ipython",
    "version": 3
   },
   "file_extension": ".py",
   "mimetype": "text/x-python",
   "name": "python",
   "nbconvert_exporter": "python",
   "pygments_lexer": "ipython3",
   "version": "3.6.15"
  }
 },
 "nbformat": 4,
 "nbformat_minor": 5
}
