{
 "cells": [
  {
   "cell_type": "markdown",
   "id": "99030d10",
   "metadata": {},
   "source": [
    "## Structure-constrained Molecular generation using COMA"
   ]
  },
  {
   "cell_type": "markdown",
   "id": "26fa0758",
   "metadata": {},
   "source": [
    "## 1. Import libraries"
   ]
  },
  {
   "cell_type": "code",
   "execution_count": 1,
   "id": "f9ee33ab",
   "metadata": {},
   "outputs": [],
   "source": [
    "import os\n",
    "import pandas as pd\n",
    "import time\n",
    "import tqdm\n",
    "import torch\n",
    "from torch.utils.data import DataLoader\n",
    "from rdkit.Chem.rdmolfiles import MolFromSmiles"
   ]
  },
  {
   "cell_type": "code",
   "execution_count": 2,
   "id": "fc74f745",
   "metadata": {},
   "outputs": [
    {
     "name": "stderr",
     "output_type": "stream",
     "text": [
      "/home/descartes/anaconda3/envs/coma/lib/python3.7/site-packages/sklearn/utils/validation.py:37: DeprecationWarning: distutils Version classes are deprecated. Use packaging.version instead.\n",
      "  LARGE_SPARSE_SUPPORTED = LooseVersion(scipy_version) >= '0.14.0'\n"
     ]
    }
   ],
   "source": [
    "from coma.dataset import ValidationSmilesDataset\n",
    "from coma.vae import SmilesAutoencoder\n",
    "from coma.properties import drd2, qed, penalized_logp, similarity"
   ]
  },
  {
   "cell_type": "markdown",
   "id": "1254ecb3",
   "metadata": {},
   "source": [
    "## 2. Configure GPU (if available)"
   ]
  },
  {
   "cell_type": "code",
   "execution_count": 3,
   "id": "8d4e67ac",
   "metadata": {},
   "outputs": [
    {
     "name": "stdout",
     "output_type": "stream",
     "text": [
      "cuda:0\n"
     ]
    }
   ],
   "source": [
    "use_cuda = torch.cuda.is_available()\n",
    "device = torch.device(\"cuda:0\" if use_cuda else \"cpu\")\n",
    "print(device)"
   ]
  },
  {
   "cell_type": "markdown",
   "id": "9a975b54",
   "metadata": {},
   "source": [
    "## 3. Specify a target property"
   ]
  },
  {
   "cell_type": "code",
   "execution_count": 4,
   "id": "1bd6b9ea",
   "metadata": {},
   "outputs": [],
   "source": [
    "PROPERTY_NAME = \"drd2\"\n",
    "SCORING_FT = drd2\n",
    "\n",
    "#PROPERTY_NAME = \"qed\"\n",
    "#SCORING_FT = qed\n",
    "\n",
    "#PROPERTY_NAME = \"logp04\"\n",
    "#SCORING_FT = penalized_logp\n",
    "\n",
    "#PROPERTY_NAME = \"logp06\"\n",
    "#SCORING_FT = penalized_logp"
   ]
  },
  {
   "cell_type": "markdown",
   "id": "d8cbbd00",
   "metadata": {},
   "source": [
    "## 4. Describe file information for inputs"
   ]
  },
  {
   "cell_type": "code",
   "execution_count": 5,
   "id": "dafcd99d",
   "metadata": {},
   "outputs": [],
   "source": [
    "input_data_dir = os.path.abspath(os.path.join(os.pardir, \"data\", PROPERTY_NAME))\n",
    "input_ckpt_dir = f\"outputs_2_finetuning_{PROPERTY_NAME}\""
   ]
  },
  {
   "cell_type": "code",
   "execution_count": 6,
   "id": "7cd8c20d",
   "metadata": {},
   "outputs": [],
   "source": [
    "filepath_test = os.path.join(input_data_dir, \"rdkit_test.txt\")"
   ]
  },
  {
   "cell_type": "code",
   "execution_count": 7,
   "id": "e1861834",
   "metadata": {},
   "outputs": [],
   "source": [
    "filepath_pretrain_ckpt     = os.path.join(input_ckpt_dir, \"checkpoints.pt\")\n",
    "filepath_pretrain_configs  = os.path.join(input_ckpt_dir, \"configs.csv\")\n",
    "filepath_pretrain_char2idx = os.path.join(input_ckpt_dir, \"char2idx.csv\")"
   ]
  },
  {
   "cell_type": "markdown",
   "id": "bf2e993a",
   "metadata": {},
   "source": [
    "## 5. Describe file information for outputs"
   ]
  },
  {
   "cell_type": "code",
   "execution_count": 8,
   "id": "9f045a89",
   "metadata": {},
   "outputs": [],
   "source": [
    "output_dir = f\"outputs_4_generation_{PROPERTY_NAME}\"\n",
    "if not os.path.exists(output_dir):\n",
    "    os.mkdir(output_dir)"
   ]
  },
  {
   "cell_type": "code",
   "execution_count": 9,
   "id": "55fdb9b8",
   "metadata": {},
   "outputs": [],
   "source": [
    "filepath_output = os.path.join(output_dir, f\"COMA_{PROPERTY_NAME}.csv\")"
   ]
  },
  {
   "cell_type": "markdown",
   "id": "e6dc0ee4",
   "metadata": {},
   "source": [
    "## 6. Load the test dataset"
   ]
  },
  {
   "cell_type": "code",
   "execution_count": 10,
   "id": "f433b1eb",
   "metadata": {},
   "outputs": [],
   "source": [
    "dataset_test = ValidationSmilesDataset(filepath_test, filepath_pretrain_char2idx, device=device)"
   ]
  },
  {
   "cell_type": "markdown",
   "id": "62fbe9fc",
   "metadata": {},
   "source": [
    "## 7. Load a pretrained generator of COMA"
   ]
  },
  {
   "cell_type": "code",
   "execution_count": 11,
   "id": "6891a25d",
   "metadata": {},
   "outputs": [],
   "source": [
    "## Model configuration\n",
    "model_configs = {\"hidden_size\"    :None,\n",
    "                 \"latent_size\"    :None,\n",
    "                 \"num_layers\"     :None,\n",
    "                 \"vocab_size\"     :None,\n",
    "                 \"sos_idx\"        :None,\n",
    "                 \"eos_idx\"        :None,\n",
    "                 \"pad_idx\"        :None,\n",
    "                 \"device\"         :device,\n",
    "                 \"filepath_config\":filepath_pretrain_configs}\n",
    "\n",
    "## Model initialization\n",
    "generator = SmilesAutoencoder(**model_configs)\n",
    "\n",
    "## Load pretrained model\n",
    "generator.load_model(filepath_pretrain_ckpt)"
   ]
  },
  {
   "cell_type": "markdown",
   "id": "503f12e3",
   "metadata": {},
   "source": [
    "## 8. Start to generate"
   ]
  },
  {
   "cell_type": "code",
   "execution_count": 12,
   "id": "84c2d562",
   "metadata": {},
   "outputs": [
    {
     "name": "stderr",
     "output_type": "stream",
     "text": [
      "100%|██████████| 1000/1000 [06:36<00:00,  2.52it/s]\n"
     ]
    }
   ],
   "source": [
    "K = 20 # repetition count of translation\n",
    "\n",
    "generated = [] # initialize a list of outputs\n",
    "\n",
    "for batch in tqdm.tqdm(DataLoader(dataset_test, batch_size=1, shuffle=False, drop_last=False, pin_memory=use_cuda)):\n",
    "    batch_smiles = dataset_test.encode(batch[\"smiles_s\"], batch[\"length_s\"].max())\n",
    "    batch_length = batch[\"length_s\"]\n",
    "    ## translation\n",
    "    for _ in range(K):\n",
    "        seq = generator.predict(batch_smiles, batch_length)\n",
    "        smi = dataset_test.decode(seq)[0] # assumption: batch_size=1\n",
    "        if MolFromSmiles(smi) is not None:\n",
    "            generated.append((batch[\"smiles_s\"][0][1:-1], smi))\n",
    "        else:\n",
    "            generated.append((batch[\"smiles_s\"][0][1:-1], \"None\"))\n",
    "        \n",
    "df_generated = pd.DataFrame.from_records(generated)"
   ]
  },
  {
   "cell_type": "markdown",
   "id": "6ed4ae12",
   "metadata": {},
   "source": [
    "## 9. Evaluate the generated molecules"
   ]
  },
  {
   "cell_type": "code",
   "execution_count": 13,
   "id": "c18a58e5",
   "metadata": {},
   "outputs": [
    {
     "name": "stderr",
     "output_type": "stream",
     "text": [
      "100%|██████████| 20000/20000 [01:35<00:00, 209.55it/s]\n"
     ]
    }
   ],
   "source": [
    "scores = []\n",
    "for smi_src, smi_tar in tqdm.tqdm(df_generated.values):\n",
    "    if smi_tar == \"None\": smi_tar=None\n",
    "    sim2D = similarity(smi_src, smi_tar)\n",
    "    try:\n",
    "        scores.append((smi_src, smi_tar, sim2D, SCORING_FT(smi_tar)))\n",
    "    except Exception as e:\n",
    "        scores.append((smi_src, smi_tar, sim2D, 0.))"
   ]
  },
  {
   "cell_type": "code",
   "execution_count": 14,
   "id": "7b4bdc53",
   "metadata": {},
   "outputs": [
    {
     "name": "stdout",
     "output_type": "stream",
     "text": [
      "(20000, 4)\n"
     ]
    },
    {
     "data": {
      "text/html": [
       "<div>\n",
       "<style scoped>\n",
       "    .dataframe tbody tr th:only-of-type {\n",
       "        vertical-align: middle;\n",
       "    }\n",
       "\n",
       "    .dataframe tbody tr th {\n",
       "        vertical-align: top;\n",
       "    }\n",
       "\n",
       "    .dataframe thead th {\n",
       "        text-align: right;\n",
       "    }\n",
       "</style>\n",
       "<table border=\"1\" class=\"dataframe\">\n",
       "  <thead>\n",
       "    <tr style=\"text-align: right;\">\n",
       "      <th></th>\n",
       "      <th>0</th>\n",
       "      <th>1</th>\n",
       "      <th>2</th>\n",
       "      <th>3</th>\n",
       "    </tr>\n",
       "  </thead>\n",
       "  <tbody>\n",
       "    <tr>\n",
       "      <th>0</th>\n",
       "      <td>N#CC1=CC=CC=C1COC1=CC=CC(C(=O)N2CCN(C3=CC=C(Br...</td>\n",
       "      <td>N#CC1=CC=CC(CN2CCN(C3=CC=CC(C(F)(F)F)=C3)CC2)=C1</td>\n",
       "      <td>0.195122</td>\n",
       "      <td>0.902995</td>\n",
       "    </tr>\n",
       "    <tr>\n",
       "      <th>1</th>\n",
       "      <td>N#CC1=CC=CC=C1COC1=CC=CC(C(=O)N2CCN(C3=CC=C(Br...</td>\n",
       "      <td>N#CC1=CC=CC(CN2CCN(C3=CC=CC=N3)CC2)C=C1</td>\n",
       "      <td>0.246914</td>\n",
       "      <td>0.160250</td>\n",
       "    </tr>\n",
       "    <tr>\n",
       "      <th>2</th>\n",
       "      <td>N#CC1=CC=CC=C1COC1=CC=CC(C(=O)N2CCN(C3=CC=C(Br...</td>\n",
       "      <td>N#CC1=CC=CC(CN2CCN(C3=CC=CC(C(F)(F)F)=C3)CC2)=C1</td>\n",
       "      <td>0.195122</td>\n",
       "      <td>0.902995</td>\n",
       "    </tr>\n",
       "    <tr>\n",
       "      <th>3</th>\n",
       "      <td>N#CC1=CC=CC=C1COC1=CC=CC(C(=O)N2CCN(C3=CC=C(Br...</td>\n",
       "      <td>N#CC1=CC=CC(C(O)CN2CCN(C3=CC=CC=C3)CC2)=C1</td>\n",
       "      <td>0.230769</td>\n",
       "      <td>0.383795</td>\n",
       "    </tr>\n",
       "    <tr>\n",
       "      <th>4</th>\n",
       "      <td>N#CC1=CC=CC=C1COC1=CC=CC(C(=O)N2CCN(C3=CC=C(Br...</td>\n",
       "      <td>N#CC1=CC=CC=C1N1CCN(CCCCN2CCN(C3=CC=CC(C(F)(F)...</td>\n",
       "      <td>0.265823</td>\n",
       "      <td>0.989971</td>\n",
       "    </tr>\n",
       "  </tbody>\n",
       "</table>\n",
       "</div>"
      ],
      "text/plain": [
       "                                                   0  \\\n",
       "0  N#CC1=CC=CC=C1COC1=CC=CC(C(=O)N2CCN(C3=CC=C(Br...   \n",
       "1  N#CC1=CC=CC=C1COC1=CC=CC(C(=O)N2CCN(C3=CC=C(Br...   \n",
       "2  N#CC1=CC=CC=C1COC1=CC=CC(C(=O)N2CCN(C3=CC=C(Br...   \n",
       "3  N#CC1=CC=CC=C1COC1=CC=CC(C(=O)N2CCN(C3=CC=C(Br...   \n",
       "4  N#CC1=CC=CC=C1COC1=CC=CC(C(=O)N2CCN(C3=CC=C(Br...   \n",
       "\n",
       "                                                   1         2         3  \n",
       "0   N#CC1=CC=CC(CN2CCN(C3=CC=CC(C(F)(F)F)=C3)CC2)=C1  0.195122  0.902995  \n",
       "1            N#CC1=CC=CC(CN2CCN(C3=CC=CC=N3)CC2)C=C1  0.246914  0.160250  \n",
       "2   N#CC1=CC=CC(CN2CCN(C3=CC=CC(C(F)(F)F)=C3)CC2)=C1  0.195122  0.902995  \n",
       "3         N#CC1=CC=CC(C(O)CN2CCN(C3=CC=CC=C3)CC2)=C1  0.230769  0.383795  \n",
       "4  N#CC1=CC=CC=C1N1CCN(CCCCN2CCN(C3=CC=CC(C(F)(F)...  0.265823  0.989971  "
      ]
     },
     "execution_count": 14,
     "metadata": {},
     "output_type": "execute_result"
    }
   ],
   "source": [
    "df_scores = pd.DataFrame.from_records(scores)\n",
    "print(df_scores.shape)\n",
    "df_scores.head()"
   ]
  },
  {
   "cell_type": "markdown",
   "id": "3990fd29",
   "metadata": {},
   "source": [
    "## 10. Save the results"
   ]
  },
  {
   "cell_type": "code",
   "execution_count": 15,
   "id": "a0efc9fa",
   "metadata": {},
   "outputs": [],
   "source": [
    "df_scores.to_csv(filepath_output, header=None, index=False)"
   ]
  },
  {
   "cell_type": "code",
   "execution_count": null,
   "id": "45a48409",
   "metadata": {},
   "outputs": [],
   "source": []
  }
 ],
 "metadata": {
  "kernelspec": {
   "display_name": "Python 3 (ipykernel)",
   "language": "python",
   "name": "python3"
  },
  "language_info": {
   "codemirror_mode": {
    "name": "ipython",
    "version": 3
   },
   "file_extension": ".py",
   "mimetype": "text/x-python",
   "name": "python",
   "nbconvert_exporter": "python",
   "pygments_lexer": "ipython3",
   "version": "3.7.16"
  }
 },
 "nbformat": 4,
 "nbformat_minor": 5
}
