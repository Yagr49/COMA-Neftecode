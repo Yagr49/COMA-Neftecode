{
 "cells": [
  {
   "cell_type": "code",
   "execution_count": 1,
   "id": "7f65b17c",
   "metadata": {},
   "outputs": [],
   "source": [
    "import os\n",
    "import sys\n",
    "import numpy as np\n",
    "import pandas as pd\n",
    "import tqdm\n",
    "import seaborn as sns\n",
    "import matplotlib.pyplot as plt"
   ]
  },
  {
   "cell_type": "code",
   "execution_count": 2,
   "id": "ae95366c",
   "metadata": {},
   "outputs": [],
   "source": [
    "PROPERTY_NAME = \"drd2\""
   ]
  },
  {
   "cell_type": "code",
   "execution_count": 3,
   "id": "3834989a",
   "metadata": {},
   "outputs": [],
   "source": [
    "filepath_COMA   = os.path.join('..', 'Tutorial_1_DRD2', f\"outputs_1-4_{PROPERTY_NAME.upper()}_translation\",  f\"COMA_{PROPERTY_NAME.upper()}.csv\")\n",
    "filepath_TVAE  = os.path.join(f\"outputs_7-2_{PROPERTY_NAME.upper()}_generation\", f\"TVAE_{PROPERTY_NAME.upper()}.csv\")"
   ]
  },
  {
   "cell_type": "code",
   "execution_count": 4,
   "id": "8baf6dee",
   "metadata": {},
   "outputs": [],
   "source": [
    "output_dir = f\"outputs_7-3_{PROPERTY_NAME.upper()}_similarity_distribution\"\n",
    "if not os.path.exists(output_dir):\n",
    "    os.mkdir(output_dir)"
   ]
  },
  {
   "cell_type": "code",
   "execution_count": 5,
   "id": "ef1bb23d",
   "metadata": {},
   "outputs": [],
   "source": [
    "df_COMA = pd.read_csv(filepath_COMA, header=None).fillna(\"\").rename(columns={0:\"SOURCE\", 1:\"TARGET\", 2:\"SIMILARITY\", 3:\"PROPERTY\"})\n",
    "df_TVAE = pd.read_csv(filepath_TVAE, header=None).fillna(\"\").rename(columns={0:\"SOURCE\", 1:\"TARGET\", 2:\"SIMILARITY\", 3:\"PROPERTY\"})"
   ]
  },
  {
   "cell_type": "code",
   "execution_count": 6,
   "id": "890f6ada",
   "metadata": {},
   "outputs": [],
   "source": [
    "df_COMA = df_COMA.groupby('SOURCE').max()\n",
    "df_TVAE = df_TVAE.groupby('SOURCE').max()"
   ]
  },
  {
   "cell_type": "code",
   "execution_count": 7,
   "id": "efcbfab6",
   "metadata": {},
   "outputs": [],
   "source": [
    "df_COMA = df_COMA[df_COMA['SIMILARITY'] > 0]\n",
    "df_TVAE = df_TVAE[df_TVAE['SIMILARITY'] > 0]"
   ]
  },
  {
   "cell_type": "code",
   "execution_count": 8,
   "id": "c11257e8",
   "metadata": {},
   "outputs": [],
   "source": [
    "df_COMA.loc[:,'MODEL'] = 'COMA'\n",
    "df_TVAE.loc[:,'MODEL'] = 'TVAE'\n",
    "df_merged = pd.concat((df_COMA, df_TVAE), ignore_index=True)"
   ]
  },
  {
   "cell_type": "code",
   "execution_count": 9,
   "id": "b7c058dc",
   "metadata": {},
   "outputs": [
    {
     "data": {
      "text/html": [
       "<div>\n",
       "<style scoped>\n",
       "    .dataframe tbody tr th:only-of-type {\n",
       "        vertical-align: middle;\n",
       "    }\n",
       "\n",
       "    .dataframe tbody tr th {\n",
       "        vertical-align: top;\n",
       "    }\n",
       "\n",
       "    .dataframe thead th {\n",
       "        text-align: right;\n",
       "    }\n",
       "</style>\n",
       "<table border=\"1\" class=\"dataframe\">\n",
       "  <thead>\n",
       "    <tr style=\"text-align: right;\">\n",
       "      <th></th>\n",
       "      <th>TARGET</th>\n",
       "      <th>SIMILARITY</th>\n",
       "      <th>PROPERTY</th>\n",
       "      <th>MODEL</th>\n",
       "    </tr>\n",
       "  </thead>\n",
       "  <tbody>\n",
       "    <tr>\n",
       "      <th>0</th>\n",
       "      <td>COC1CCN(CCCCC2=CNC3=CC=CC=C23)CC1</td>\n",
       "      <td>0.155172</td>\n",
       "      <td>1.000000</td>\n",
       "      <td>COMA</td>\n",
       "    </tr>\n",
       "    <tr>\n",
       "      <th>1</th>\n",
       "      <td>C#CCN1CCN(CCCCNC(=O)NCCCCN2CCN(C3=CC=CC=C3)CC2...</td>\n",
       "      <td>0.380952</td>\n",
       "      <td>0.585273</td>\n",
       "      <td>COMA</td>\n",
       "    </tr>\n",
       "    <tr>\n",
       "      <th>2</th>\n",
       "      <td>COC(=O)NCCCCN1CCN(C2=CC=C(Cl)C=C2)CC1</td>\n",
       "      <td>0.323077</td>\n",
       "      <td>0.843600</td>\n",
       "      <td>COMA</td>\n",
       "    </tr>\n",
       "    <tr>\n",
       "      <th>3</th>\n",
       "      <td>COCCN1CCN(CCCCCN2CCN(C3=CC=CC(Cl)=C3)CC2)CC1</td>\n",
       "      <td>0.369231</td>\n",
       "      <td>0.885185</td>\n",
       "      <td>COMA</td>\n",
       "    </tr>\n",
       "    <tr>\n",
       "      <th>4</th>\n",
       "      <td>CCN(CC)CC1=CC=C(C(=O)NCCCCN2CCC(C3=CC=C(Cl)C=C...</td>\n",
       "      <td>0.287671</td>\n",
       "      <td>0.993340</td>\n",
       "      <td>COMA</td>\n",
       "    </tr>\n",
       "    <tr>\n",
       "      <th>...</th>\n",
       "      <td>...</td>\n",
       "      <td>...</td>\n",
       "      <td>...</td>\n",
       "      <td>...</td>\n",
       "    </tr>\n",
       "    <tr>\n",
       "      <th>1995</th>\n",
       "      <td>O=C(NCCCCN1C=CN=C1)CC1CCCN1CCC1=CC=CC=C1</td>\n",
       "      <td>0.254902</td>\n",
       "      <td>0.983651</td>\n",
       "      <td>TVAE</td>\n",
       "    </tr>\n",
       "    <tr>\n",
       "      <th>1996</th>\n",
       "      <td>OC1(C2=CC=CC(C(F)(F)F)=C2)CCN(CCCNC(=O)C2=CC=C...</td>\n",
       "      <td>0.200000</td>\n",
       "      <td>0.999998</td>\n",
       "      <td>TVAE</td>\n",
       "    </tr>\n",
       "    <tr>\n",
       "      <th>1997</th>\n",
       "      <td>O=[N+]([O-])C1=CC(=O)OC2=CC(OCCCCN3CCC4=CC=CC=...</td>\n",
       "      <td>0.230769</td>\n",
       "      <td>0.999999</td>\n",
       "      <td>TVAE</td>\n",
       "    </tr>\n",
       "    <tr>\n",
       "      <th>1998</th>\n",
       "      <td>OC1=CC(C(O)NCC2=CC=CC=C2)=CN1C1=CC=C2OCCOC2=C1</td>\n",
       "      <td>0.253731</td>\n",
       "      <td>1.000000</td>\n",
       "      <td>TVAE</td>\n",
       "    </tr>\n",
       "    <tr>\n",
       "      <th>1999</th>\n",
       "      <td>O=S(=O)(N1CCCCC1)N1CCN(CC2=CC=CC(Cl)=C2Cl)CC1</td>\n",
       "      <td>0.258065</td>\n",
       "      <td>0.991084</td>\n",
       "      <td>TVAE</td>\n",
       "    </tr>\n",
       "  </tbody>\n",
       "</table>\n",
       "<p>2000 rows × 4 columns</p>\n",
       "</div>"
      ],
      "text/plain": [
       "                                                 TARGET  SIMILARITY  PROPERTY  \\\n",
       "0                     COC1CCN(CCCCC2=CNC3=CC=CC=C23)CC1    0.155172  1.000000   \n",
       "1     C#CCN1CCN(CCCCNC(=O)NCCCCN2CCN(C3=CC=CC=C3)CC2...    0.380952  0.585273   \n",
       "2                 COC(=O)NCCCCN1CCN(C2=CC=C(Cl)C=C2)CC1    0.323077  0.843600   \n",
       "3          COCCN1CCN(CCCCCN2CCN(C3=CC=CC(Cl)=C3)CC2)CC1    0.369231  0.885185   \n",
       "4     CCN(CC)CC1=CC=C(C(=O)NCCCCN2CCC(C3=CC=C(Cl)C=C...    0.287671  0.993340   \n",
       "...                                                 ...         ...       ...   \n",
       "1995           O=C(NCCCCN1C=CN=C1)CC1CCCN1CCC1=CC=CC=C1    0.254902  0.983651   \n",
       "1996  OC1(C2=CC=CC(C(F)(F)F)=C2)CCN(CCCNC(=O)C2=CC=C...    0.200000  0.999998   \n",
       "1997  O=[N+]([O-])C1=CC(=O)OC2=CC(OCCCCN3CCC4=CC=CC=...    0.230769  0.999999   \n",
       "1998     OC1=CC(C(O)NCC2=CC=CC=C2)=CN1C1=CC=C2OCCOC2=C1    0.253731  1.000000   \n",
       "1999      O=S(=O)(N1CCCCC1)N1CCN(CC2=CC=CC(Cl)=C2Cl)CC1    0.258065  0.991084   \n",
       "\n",
       "     MODEL  \n",
       "0     COMA  \n",
       "1     COMA  \n",
       "2     COMA  \n",
       "3     COMA  \n",
       "4     COMA  \n",
       "...    ...  \n",
       "1995  TVAE  \n",
       "1996  TVAE  \n",
       "1997  TVAE  \n",
       "1998  TVAE  \n",
       "1999  TVAE  \n",
       "\n",
       "[2000 rows x 4 columns]"
      ]
     },
     "execution_count": 9,
     "metadata": {},
     "output_type": "execute_result"
    }
   ],
   "source": [
    "df_merged"
   ]
  },
  {
   "cell_type": "code",
   "execution_count": 10,
   "id": "98a8cc62",
   "metadata": {},
   "outputs": [
    {
     "data": {
      "text/html": [
       "<div>\n",
       "<style scoped>\n",
       "    .dataframe tbody tr th:only-of-type {\n",
       "        vertical-align: middle;\n",
       "    }\n",
       "\n",
       "    .dataframe tbody tr th {\n",
       "        vertical-align: top;\n",
       "    }\n",
       "\n",
       "    .dataframe thead th {\n",
       "        text-align: right;\n",
       "    }\n",
       "</style>\n",
       "<table border=\"1\" class=\"dataframe\">\n",
       "  <thead>\n",
       "    <tr style=\"text-align: right;\">\n",
       "      <th></th>\n",
       "      <th>SIMILARITY</th>\n",
       "      <th>PROPERTY</th>\n",
       "    </tr>\n",
       "    <tr>\n",
       "      <th>MODEL</th>\n",
       "      <th></th>\n",
       "      <th></th>\n",
       "    </tr>\n",
       "  </thead>\n",
       "  <tbody>\n",
       "    <tr>\n",
       "      <th>COMA</th>\n",
       "      <td>0.422689</td>\n",
       "      <td>0.978621</td>\n",
       "    </tr>\n",
       "    <tr>\n",
       "      <th>TVAE</th>\n",
       "      <td>0.269247</td>\n",
       "      <td>0.990497</td>\n",
       "    </tr>\n",
       "  </tbody>\n",
       "</table>\n",
       "</div>"
      ],
      "text/plain": [
       "       SIMILARITY  PROPERTY\n",
       "MODEL                      \n",
       "COMA     0.422689  0.978621\n",
       "TVAE     0.269247  0.990497"
      ]
     },
     "execution_count": 10,
     "metadata": {},
     "output_type": "execute_result"
    }
   ],
   "source": [
    "df_merged.groupby('MODEL').mean()"
   ]
  },
  {
   "cell_type": "code",
   "execution_count": 26,
   "id": "af76f050",
   "metadata": {},
   "outputs": [
    {
     "data": {
      "image/png": "[encoded data removed]",
      "text/plain": [
       "<Figure size 504x216 with 1 Axes>"
      ]
     },
     "metadata": {},
     "output_type": "display_data"
    }
   ],
   "source": [
    "sns.set_theme(style='whitegrid')\n",
    "\n",
    "fig, ax = plt.subplots(1,1,figsize=(7,3))\n",
    "\n",
    "ax = sns.kdeplot(data=df_merged, x='SIMILARITY', hue='MODEL', hue_order=['TVAE', 'COMA'], legend=False, fill=True, ax=ax)\n",
    "\n",
    "ax.legend(['contractive & margin (0.423)', 'triplet loss (0.269)'], fontsize=16)\n",
    "\n",
    "ax.axvline(x=0.423, c='k', linewidth=1., linestyle='--', label=None)\n",
    "ax.axvline(x=0.269, c='k', linewidth=1., linestyle='--', label=None)\n",
    "\n",
    "plt.tight_layout()\n",
    "plt.savefig(os.path.join(output_dir, 'kde_plots.png'), dpi=300)\n",
    "plt.show()"
   ]
  },
  {
   "cell_type": "code",
   "execution_count": null,
   "id": "a09e263c",
   "metadata": {},
   "outputs": [],
   "source": []
  }
 ],
 "metadata": {
  "kernelspec": {
   "display_name": "Python 3",
   "language": "python",
   "name": "python3"
  },
  "language_info": {
   "codemirror_mode": {
    "name": "ipython",
    "version": 3
   },
   "file_extension": ".py",
   "mimetype": "text/x-python",
   "name": "python",
   "nbconvert_exporter": "python",
   "pygments_lexer": "ipython3",
   "version": "3.6.15"
  }
 },
 "nbformat": 4,
 "nbformat_minor": 5
}
