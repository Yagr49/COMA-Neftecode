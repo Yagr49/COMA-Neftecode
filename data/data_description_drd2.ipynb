{
 "cells": [
  {
   "cell_type": "code",
   "execution_count": 1,
   "id": "d9e19d08",
   "metadata": {},
   "outputs": [],
   "source": [
    "import os\n",
    "import sys\n",
    "import tqdm\n",
    "import pandas as pd"
   ]
  },
  {
   "cell_type": "code",
   "execution_count": 2,
   "id": "d4a97023",
   "metadata": {},
   "outputs": [
    {
     "name": "stderr",
     "output_type": "stream",
     "text": [
      "/home/descartes/anaconda3/envs/coma/lib/python3.7/site-packages/sklearn/utils/validation.py:37: DeprecationWarning: distutils Version classes are deprecated. Use packaging.version instead.\n",
      "  LARGE_SPARSE_SUPPORTED = LooseVersion(scipy_version) >= '0.14.0'\n"
     ]
    }
   ],
   "source": [
    "from coma.properties import drd2, qed, penalized_logp, similarity"
   ]
  },
  {
   "cell_type": "code",
   "execution_count": 3,
   "id": "cd808561",
   "metadata": {},
   "outputs": [],
   "source": [
    "PROPERTY_NAME = 'drd2'\n",
    "SCORING_FT = drd2"
   ]
  },
  {
   "cell_type": "markdown",
   "id": "870a7a9f",
   "metadata": {},
   "source": [
    "# 1. Read data"
   ]
  },
  {
   "cell_type": "code",
   "execution_count": 4,
   "id": "90c5815d",
   "metadata": {},
   "outputs": [],
   "source": [
    "filepath_tr_trip = os.path.join(PROPERTY_NAME, 'rdkit_train_triplet.txt')\n",
    "filepath_tr_pair = os.path.join(PROPERTY_NAME, 'rdkit_train_pairs.txt')\n",
    "filepath_tr_src = os.path.join(PROPERTY_NAME, 'rdkit_train_src.txt')\n",
    "filepath_tr_tar = os.path.join(PROPERTY_NAME, 'rdkit_train_tar.txt')\n",
    "filepath_va = os.path.join(PROPERTY_NAME, 'rdkit_valid.txt')\n",
    "filepath_te = os.path.join(PROPERTY_NAME, 'rdkit_test.txt')"
   ]
  },
  {
   "cell_type": "code",
   "execution_count": 5,
   "id": "8da35fd7",
   "metadata": {},
   "outputs": [],
   "source": [
    "df_tr_trip = pd.read_csv(filepath_tr_trip, header=None, sep=' ')\n",
    "df_tr_pair = pd.read_csv(filepath_tr_pair, header=None, sep=' ')\n",
    "df_tr_src = pd.read_csv(filepath_tr_src, header=None).drop_duplicates(ignore_index=True)\n",
    "df_tr_tar = pd.read_csv(filepath_tr_tar, header=None).drop_duplicates(ignore_index=True)\n",
    "df_va = pd.read_csv(filepath_va, header=None)\n",
    "df_te = pd.read_csv(filepath_te, header=None)"
   ]
  },
  {
   "cell_type": "code",
   "execution_count": 6,
   "id": "14b3e8d4",
   "metadata": {},
   "outputs": [
    {
     "name": "stdout",
     "output_type": "stream",
     "text": [
      "Number of Triplets  : (688080, 3)\n",
      "Number of Pairs     : (34404, 2)\n",
      "Number of Sources   : (18491, 1)\n",
      "Number of Targets   : (3141, 1)\n",
      "Number of Negatives : (21632,)\n"
     ]
    }
   ],
   "source": [
    "print(f\"Number of Triplets  : {df_tr_trip.shape}\")\n",
    "print(f\"Number of Pairs     : {df_tr_pair.shape}\")\n",
    "print(f\"Number of Sources   : {df_tr_src.shape}\")\n",
    "print(f\"Number of Targets   : {df_tr_tar.shape}\")\n",
    "print(f\"Number of Negatives : {df_tr_trip.iloc[:,2].drop_duplicates().shape}\")"
   ]
  },
  {
   "cell_type": "markdown",
   "id": "aa62598a",
   "metadata": {},
   "source": [
    "# 2. Property"
   ]
  },
  {
   "cell_type": "code",
   "execution_count": 7,
   "id": "43ff8ec7",
   "metadata": {
    "scrolled": true
   },
   "outputs": [
    {
     "name": "stderr",
     "output_type": "stream",
     "text": [
      "  0%|                                                                                                                                                                                                      | 0/18491 [00:00<?, ?it/s]\n"
     ]
    },
    {
     "ename": "FileNotFoundError",
     "evalue": "[Errno 2] No such file or directory: '/home/descartes/anaconda3/envs/coma/lib/python3.7/site-packages/coma/clf_py36.pkl'",
     "output_type": "error",
     "traceback": [
      "\u001b[0;31m---------------------------------------------------------------------------\u001b[0m",
      "\u001b[0;31mFileNotFoundError\u001b[0m                         Traceback (most recent call last)",
      "\u001b[0;32m/tmp/ipykernel_41026/28806122.py\u001b[0m in \u001b[0;36m<module>\u001b[0;34m\u001b[0m\n\u001b[1;32m      4\u001b[0m \u001b[0;32mfor\u001b[0m \u001b[0mi\u001b[0m \u001b[0;32min\u001b[0m \u001b[0mtqdm\u001b[0m\u001b[0;34m.\u001b[0m\u001b[0mtrange\u001b[0m\u001b[0;34m(\u001b[0m\u001b[0mlen\u001b[0m\u001b[0;34m(\u001b[0m\u001b[0mdf_tr_src_\u001b[0m\u001b[0;34m)\u001b[0m\u001b[0;34m)\u001b[0m\u001b[0;34m:\u001b[0m\u001b[0;34m\u001b[0m\u001b[0;34m\u001b[0m\u001b[0m\n\u001b[1;32m      5\u001b[0m     \u001b[0msmi\u001b[0m \u001b[0;34m=\u001b[0m \u001b[0mdf_tr_src_\u001b[0m\u001b[0;34m.\u001b[0m\u001b[0miloc\u001b[0m\u001b[0;34m[\u001b[0m\u001b[0mi\u001b[0m\u001b[0;34m,\u001b[0m\u001b[0;36m0\u001b[0m\u001b[0;34m]\u001b[0m\u001b[0;34m\u001b[0m\u001b[0;34m\u001b[0m\u001b[0m\n\u001b[0;32m----> 6\u001b[0;31m     \u001b[0mprop\u001b[0m \u001b[0;34m=\u001b[0m \u001b[0mSCORING_FT\u001b[0m\u001b[0;34m(\u001b[0m\u001b[0msmi\u001b[0m\u001b[0;34m)\u001b[0m\u001b[0;34m\u001b[0m\u001b[0;34m\u001b[0m\u001b[0m\n\u001b[0m\u001b[1;32m      7\u001b[0m     \u001b[0mdf_tr_src_\u001b[0m\u001b[0;34m.\u001b[0m\u001b[0miloc\u001b[0m\u001b[0;34m[\u001b[0m\u001b[0mi\u001b[0m\u001b[0;34m,\u001b[0m\u001b[0;36m1\u001b[0m\u001b[0;34m]\u001b[0m \u001b[0;34m=\u001b[0m \u001b[0mprop\u001b[0m\u001b[0;34m\u001b[0m\u001b[0;34m\u001b[0m\u001b[0m\n",
      "\u001b[0;32m~/anaconda3/envs/coma/lib/python3.7/site-packages/coma/properties.py\u001b[0m in \u001b[0;36mdrd2\u001b[0;34m(s)\u001b[0m\n\u001b[1;32m     64\u001b[0m         \u001b[0;32mreturn\u001b[0m \u001b[0;36m0.0\u001b[0m\u001b[0;34m\u001b[0m\u001b[0;34m\u001b[0m\u001b[0m\n\u001b[1;32m     65\u001b[0m     \u001b[0;32melse\u001b[0m\u001b[0;34m:\u001b[0m\u001b[0;34m\u001b[0m\u001b[0;34m\u001b[0m\u001b[0m\n\u001b[0;32m---> 66\u001b[0;31m         \u001b[0;32mreturn\u001b[0m \u001b[0mDRD2\u001b[0m\u001b[0;34m.\u001b[0m\u001b[0mget_score\u001b[0m\u001b[0;34m(\u001b[0m\u001b[0ms\u001b[0m\u001b[0;34m)\u001b[0m\u001b[0;34m\u001b[0m\u001b[0;34m\u001b[0m\u001b[0m\n\u001b[0m\u001b[1;32m     67\u001b[0m \u001b[0;34m\u001b[0m\u001b[0m\n\u001b[1;32m     68\u001b[0m \u001b[0;34m\u001b[0m\u001b[0m\n",
      "\u001b[0;32m~/anaconda3/envs/coma/lib/python3.7/site-packages/coma/drd2_scorer.py\u001b[0m in \u001b[0;36mget_score\u001b[0;34m(smile)\u001b[0m\n\u001b[1;32m     19\u001b[0m \u001b[0;32mdef\u001b[0m \u001b[0mget_score\u001b[0m\u001b[0;34m(\u001b[0m\u001b[0msmile\u001b[0m\u001b[0;34m)\u001b[0m\u001b[0;34m:\u001b[0m\u001b[0;34m\u001b[0m\u001b[0;34m\u001b[0m\u001b[0m\n\u001b[1;32m     20\u001b[0m     \u001b[0;32mif\u001b[0m \u001b[0mclf_model\u001b[0m \u001b[0;32mis\u001b[0m \u001b[0;32mNone\u001b[0m\u001b[0;34m:\u001b[0m\u001b[0;34m\u001b[0m\u001b[0;34m\u001b[0m\u001b[0m\n\u001b[0;32m---> 21\u001b[0;31m         \u001b[0mload_model\u001b[0m\u001b[0;34m(\u001b[0m\u001b[0;34m)\u001b[0m\u001b[0;34m\u001b[0m\u001b[0;34m\u001b[0m\u001b[0m\n\u001b[0m\u001b[1;32m     22\u001b[0m \u001b[0;34m\u001b[0m\u001b[0m\n\u001b[1;32m     23\u001b[0m     \u001b[0mmol\u001b[0m \u001b[0;34m=\u001b[0m \u001b[0mChem\u001b[0m\u001b[0;34m.\u001b[0m\u001b[0mMolFromSmiles\u001b[0m\u001b[0;34m(\u001b[0m\u001b[0msmile\u001b[0m\u001b[0;34m)\u001b[0m\u001b[0;34m\u001b[0m\u001b[0;34m\u001b[0m\u001b[0m\n",
      "\u001b[0;32m~/anaconda3/envs/coma/lib/python3.7/site-packages/coma/drd2_scorer.py\u001b[0m in \u001b[0;36mload_model\u001b[0;34m()\u001b[0m\n\u001b[1;32m     14\u001b[0m     \u001b[0;32mglobal\u001b[0m \u001b[0mclf_model\u001b[0m\u001b[0;34m\u001b[0m\u001b[0;34m\u001b[0m\u001b[0m\n\u001b[1;32m     15\u001b[0m     \u001b[0mname\u001b[0m \u001b[0;34m=\u001b[0m \u001b[0mop\u001b[0m\u001b[0;34m.\u001b[0m\u001b[0mjoin\u001b[0m\u001b[0;34m(\u001b[0m\u001b[0mop\u001b[0m\u001b[0;34m.\u001b[0m\u001b[0mdirname\u001b[0m\u001b[0;34m(\u001b[0m\u001b[0m__file__\u001b[0m\u001b[0;34m)\u001b[0m\u001b[0;34m,\u001b[0m \u001b[0;34m'clf_py36.pkl'\u001b[0m\u001b[0;34m)\u001b[0m\u001b[0;34m\u001b[0m\u001b[0;34m\u001b[0m\u001b[0m\n\u001b[0;32m---> 16\u001b[0;31m     \u001b[0;32mwith\u001b[0m \u001b[0mopen\u001b[0m\u001b[0;34m(\u001b[0m\u001b[0mname\u001b[0m\u001b[0;34m,\u001b[0m \u001b[0;34m\"rb\"\u001b[0m\u001b[0;34m)\u001b[0m \u001b[0;32mas\u001b[0m \u001b[0mf\u001b[0m\u001b[0;34m:\u001b[0m\u001b[0;34m\u001b[0m\u001b[0;34m\u001b[0m\u001b[0m\n\u001b[0m\u001b[1;32m     17\u001b[0m         \u001b[0mclf_model\u001b[0m \u001b[0;34m=\u001b[0m \u001b[0mpickle\u001b[0m\u001b[0;34m.\u001b[0m\u001b[0mload\u001b[0m\u001b[0;34m(\u001b[0m\u001b[0mf\u001b[0m\u001b[0;34m)\u001b[0m\u001b[0;34m\u001b[0m\u001b[0;34m\u001b[0m\u001b[0m\n\u001b[1;32m     18\u001b[0m \u001b[0;34m\u001b[0m\u001b[0m\n",
      "\u001b[0;31mFileNotFoundError\u001b[0m: [Errno 2] No such file or directory: '/home/descartes/anaconda3/envs/coma/lib/python3.7/site-packages/coma/clf_py36.pkl'"
     ]
    }
   ],
   "source": [
    "df_tr_src_ = df_tr_src.copy()\n",
    "df_tr_src_.loc[:,1] = 0.\n",
    "\n",
    "for i in tqdm.trange(len(df_tr_src_)):\n",
    "    smi = df_tr_src_.iloc[i,0]\n",
    "    prop = SCORING_FT(smi)\n",
    "    df_tr_src_.iloc[i,1] = prop"
   ]
  },
  {
   "cell_type": "code",
   "execution_count": null,
   "id": "88fc3e62",
   "metadata": {},
   "outputs": [],
   "source": [
    "df_tr_tar_ = df_tr_tar.copy()\n",
    "df_tr_tar_.loc[:,1] = 0.\n",
    "\n",
    "for i in tqdm.trange(len(df_tr_tar_)):\n",
    "    smi = df_tr_tar_.iloc[i,0]\n",
    "    prop = SCORING_FT(smi)\n",
    "    df_tr_tar_.iloc[i,1] = prop"
   ]
  },
  {
   "cell_type": "code",
   "execution_count": null,
   "id": "3ee4d8b1",
   "metadata": {},
   "outputs": [],
   "source": [
    "print(f\"Range of {PROPERTY_NAME} (src): {df_tr_src_.iloc[:,1].min():.2f} ~ {df_tr_src_.iloc[:,1].max():.2f}\")\n",
    "print(f\"Range of {PROPERTY_NAME} (tar): {df_tr_tar_.iloc[:,1].min():.2f} ~ {df_tr_tar_.iloc[:,1].max():.2f}\")"
   ]
  },
  {
   "cell_type": "code",
   "execution_count": null,
   "id": "faeb1881",
   "metadata": {},
   "outputs": [],
   "source": [
    "print(f\"Average of {PROPERTY_NAME} (src): {df_tr_src_.iloc[:,1].mean():.2f} ({df_tr_src_.iloc[:,1].std():.2f})\")\n",
    "print(f\"Average of {PROPERTY_NAME} (tar): {df_tr_tar_.iloc[:,1].mean():.2f} ({df_tr_tar_.iloc[:,1].std():.2f})\")"
   ]
  },
  {
   "cell_type": "markdown",
   "id": "b31ac7f7",
   "metadata": {},
   "source": [
    "# 3. Similarity & Improvement"
   ]
  },
  {
   "cell_type": "code",
   "execution_count": null,
   "id": "cfc7e176",
   "metadata": {},
   "outputs": [],
   "source": [
    "df_tr_pair_ = df_tr_pair.copy()\n",
    "df_tr_pair_.loc[:,2] = 0.\n",
    "df_tr_pair_.loc[:,3] = 0.\n",
    "\n",
    "for i in tqdm.trange(len(df_tr_pair_)):\n",
    "    smi_src = df_tr_pair_.iloc[i,0]\n",
    "    smi_tar = df_tr_pair_.iloc[i,1]\n",
    "    ## similarity\n",
    "    sim = similarity(smi_src, smi_tar)\n",
    "    df_tr_pair_.iloc[i,2] = sim\n",
    "    ## improvement\n",
    "    prop_src = SCORING_FT(smi_src)\n",
    "    prop_tar = SCORING_FT(smi_tar)\n",
    "    df_tr_pair_.iloc[i,3] = prop_tar - prop_src"
   ]
  },
  {
   "cell_type": "code",
   "execution_count": null,
   "id": "0ccc87c6",
   "metadata": {},
   "outputs": [],
   "source": [
    "print(f\"Range of Similarity (src,tar): {df_tr_pair_.iloc[:,2].min():.2f} ~ {df_tr_pair_.iloc[:,2].max():.2f}\")\n",
    "print(f\"Range of Improvement (tar-src): {df_tr_pair_.iloc[:,3].min():.2f} ~ {df_tr_pair_.iloc[:,3].max():.2f}\")"
   ]
  },
  {
   "cell_type": "code",
   "execution_count": null,
   "id": "bca4e853",
   "metadata": {},
   "outputs": [],
   "source": [
    "print(f\"Average of Similarity (src,tar) : {df_tr_pair_.iloc[:,2].mean():.2f} ({df_tr_pair_.iloc[:,2].std():.2f})\")\n",
    "print(f\"Average of Improvement (tar-src): {df_tr_pair_.iloc[:,3].mean():.2f} ({df_tr_pair_.iloc[:,3].std():.2f})\")"
   ]
  },
  {
   "cell_type": "code",
   "execution_count": null,
   "id": "48a07b05",
   "metadata": {},
   "outputs": [],
   "source": [
    "df_tr_trip_ = df_tr_trip.copy()\n",
    "df_tr_trip_.loc[:,3] = 0.\n",
    "df_tr_trip_.loc[:,4] = 0.\n",
    "\n",
    "for i in tqdm.trange(len(df_tr_trip_)):\n",
    "    smi_src = df_tr_trip_.iloc[i,0]\n",
    "    smi_tar = df_tr_trip_.iloc[i,1]\n",
    "    smi_neg = df_tr_trip_.iloc[i,2]\n",
    "    ## similarity\n",
    "    sim_1 = similarity(smi_src, smi_neg)\n",
    "    sim_2 = similarity(smi_tar, smi_neg)\n",
    "    df_tr_trip_.iloc[i,3] = sim_1\n",
    "    df_tr_trip_.iloc[i,4] = sim_2"
   ]
  },
  {
   "cell_type": "code",
   "execution_count": null,
   "id": "8500b11a",
   "metadata": {},
   "outputs": [],
   "source": [
    "print(f\"Range of Similarity (src,neg): {df_tr_trip_.iloc[:,3].min():.2f} ~ {df_tr_trip_.iloc[:,3].max():.2f}\")\n",
    "print(f\"Range of Similarity (tar,neg): {df_tr_trip_.iloc[:,4].min():.2f} ~ {df_tr_trip_.iloc[:,4].max():.2f}\")"
   ]
  },
  {
   "cell_type": "code",
   "execution_count": null,
   "id": "1fe7dcce",
   "metadata": {},
   "outputs": [],
   "source": []
  }
 ],
 "metadata": {
  "kernelspec": {
   "display_name": "Python 3 (ipykernel)",
   "language": "python",
   "name": "python3"
  },
  "language_info": {
   "codemirror_mode": {
    "name": "ipython",
    "version": 3
   },
   "file_extension": ".py",
   "mimetype": "text/x-python",
   "name": "python",
   "nbconvert_exporter": "python",
   "pygments_lexer": "ipython3",
   "version": "3.7.16"
  }
 },
 "nbformat": 4,
 "nbformat_minor": 5
}
