{
 "cells": [
  {
   "cell_type": "code",
   "execution_count": 9,
   "metadata": {},
   "outputs": [
    {
     "name": "stderr",
     "output_type": "stream",
     "text": [
      "[22:02:28] DEPRECATION WARNING: please use MorganGenerator\n",
      "[22:02:28] DEPRECATION WARNING: please use MorganGenerator\n",
      "[22:02:29] DEPRECATION WARNING: please use MorganGenerator\n",
      "[22:02:29] DEPRECATION WARNING: please use MorganGenerator\n",
      "[22:02:29] DEPRECATION WARNING: please use MorganGenerator\n",
      "[22:02:29] DEPRECATION WARNING: please use MorganGenerator\n",
      "[22:02:29] DEPRECATION WARNING: please use MorganGenerator\n",
      "[22:02:30] DEPRECATION WARNING: please use MorganGenerator\n",
      "[22:02:30] DEPRECATION WARNING: please use MorganGenerator\n",
      "[22:02:30] DEPRECATION WARNING: please use MorganGenerator\n",
      "[22:02:30] DEPRECATION WARNING: please use MorganGenerator\n",
      "[22:02:30] DEPRECATION WARNING: please use MorganGenerator\n",
      "[22:02:31] DEPRECATION WARNING: please use MorganGenerator\n",
      "[22:02:31] DEPRECATION WARNING: please use MorganGenerator\n",
      "[22:02:31] DEPRECATION WARNING: please use MorganGenerator\n",
      "[22:02:31] DEPRECATION WARNING: please use MorganGenerator\n",
      "[22:02:31] DEPRECATION WARNING: please use MorganGenerator\n",
      "[22:02:32] DEPRECATION WARNING: please use MorganGenerator\n",
      "[22:02:32] DEPRECATION WARNING: please use MorganGenerator\n",
      "[22:02:32] DEPRECATION WARNING: please use MorganGenerator\n",
      "[22:02:32] DEPRECATION WARNING: please use MorganGenerator\n",
      "[22:02:32] DEPRECATION WARNING: please use MorganGenerator\n",
      "[22:02:32] DEPRECATION WARNING: please use MorganGenerator\n",
      "[22:02:33] DEPRECATION WARNING: please use MorganGenerator\n",
      "[22:02:33] DEPRECATION WARNING: please use MorganGenerator\n",
      "[22:02:33] DEPRECATION WARNING: please use MorganGenerator\n",
      "[22:02:33] DEPRECATION WARNING: please use MorganGenerator\n",
      "[22:02:33] DEPRECATION WARNING: please use MorganGenerator\n",
      "[22:02:33] DEPRECATION WARNING: please use MorganGenerator\n",
      "[22:02:34] DEPRECATION WARNING: please use MorganGenerator\n",
      "[22:02:34] DEPRECATION WARNING: please use MorganGenerator\n",
      "[22:02:34] DEPRECATION WARNING: please use MorganGenerator\n",
      "[22:02:34] DEPRECATION WARNING: please use MorganGenerator\n",
      "[22:02:34] DEPRECATION WARNING: please use MorganGenerator\n",
      "[22:02:34] DEPRECATION WARNING: please use MorganGenerator\n",
      "[22:02:35] DEPRECATION WARNING: please use MorganGenerator\n",
      "[22:02:35] DEPRECATION WARNING: please use MorganGenerator\n",
      "[22:02:35] DEPRECATION WARNING: please use MorganGenerator\n",
      "[22:02:35] DEPRECATION WARNING: please use MorganGenerator\n",
      "[22:02:35] DEPRECATION WARNING: please use MorganGenerator\n",
      "[22:02:35] DEPRECATION WARNING: please use MorganGenerator\n",
      "[22:02:35] DEPRECATION WARNING: please use MorganGenerator\n",
      "[22:02:35] DEPRECATION WARNING: please use MorganGenerator\n",
      "[22:02:36] DEPRECATION WARNING: please use MorganGenerator\n",
      "[22:02:36] DEPRECATION WARNING: please use MorganGenerator\n",
      "[22:02:36] DEPRECATION WARNING: please use MorganGenerator\n",
      "[22:02:36] DEPRECATION WARNING: please use MorganGenerator\n",
      "[22:02:36] DEPRECATION WARNING: please use MorganGenerator\n",
      "[22:02:36] DEPRECATION WARNING: please use MorganGenerator\n",
      "[22:02:36] DEPRECATION WARNING: please use MorganGenerator\n",
      "[22:02:37] DEPRECATION WARNING: please use MorganGenerator\n",
      "[22:02:37] DEPRECATION WARNING: please use MorganGenerator\n",
      "[22:02:37] DEPRECATION WARNING: please use MorganGenerator\n",
      "[22:02:37] DEPRECATION WARNING: please use MorganGenerator\n",
      "[22:02:37] DEPRECATION WARNING: please use MorganGenerator\n",
      "[22:02:37] DEPRECATION WARNING: please use MorganGenerator\n",
      "[22:02:37] DEPRECATION WARNING: please use MorganGenerator\n",
      "[22:02:38] DEPRECATION WARNING: please use MorganGenerator\n",
      "[22:02:38] DEPRECATION WARNING: please use MorganGenerator\n",
      "[22:02:38] DEPRECATION WARNING: please use MorganGenerator\n",
      "[22:02:38] DEPRECATION WARNING: please use MorganGenerator\n"
     ]
    },
    {
     "name": "stdout",
     "output_type": "stream",
     "text": [
      "Результаты сохранены в output_sa_scores.csv\n"
     ]
    },
    {
     "name": "stderr",
     "output_type": "stream",
     "text": [
      "[22:02:38] DEPRECATION WARNING: please use MorganGenerator\n",
      "[22:02:39] DEPRECATION WARNING: please use MorganGenerator\n",
      "[22:02:39] DEPRECATION WARNING: please use MorganGenerator\n"
     ]
    }
   ],
   "source": [
    "import pandas as pd\n",
    "from rdkit import Chem\n",
    "from rdkit.Chem import AllChem\n",
    "from coma.sascorer import calculateScore\n",
    "\n",
    "def calculate_sa_score(smiles):\n",
    "    \"\"\"Вычисляет SA Score для SMILES.\"\"\"\n",
    "    mol = Chem.MolFromSmiles(smiles)\n",
    "    if mol is None:\n",
    "        return None  \n",
    "    mol = Chem.AddHs(mol) \n",
    "    AllChem.EmbedMolecule(mol, randomSeed=42)  \n",
    "    return calculateScore(mol)\n",
    "\n",
    "input_csv = \"/home/msmirnov/oilcode/testing_generated_molecules/generated_data/generated_7_Egor_filtered_updated_to_submit.csv\"  \n",
    "output_csv = \"output_sa_scores.csv\"\n",
    "\n",
    "df = pd.read_csv(input_csv)\n",
    "\n",
    "df['sa_score'] = df['SMILES'].apply(calculate_sa_score)\n",
    "\n",
    "df.to_csv(output_csv, index=False)\n",
    "print(f\"Результаты сохранены в {output_csv}\")"
   ]
  }
 ],
 "metadata": {
  "kernelspec": {
   "display_name": "coma",
   "language": "python",
   "name": "python3"
  },
  "language_info": {
   "codemirror_mode": {
    "name": "ipython",
    "version": 3
   },
   "file_extension": ".py",
   "mimetype": "text/x-python",
   "name": "python",
   "nbconvert_exporter": "python",
   "pygments_lexer": "ipython3",
   "version": "3.8.20"
  }
 },
 "nbformat": 4,
 "nbformat_minor": 2
}
