{
 "cells": [
  {
   "cell_type": "code",
   "execution_count": 1,
   "id": "d9e19d08",
   "metadata": {},
   "outputs": [],
   "source": [
    "import os\n",
    "import sys\n",
    "import tqdm\n",
    "import pandas as pd"
   ]
  },
  {
   "cell_type": "code",
   "execution_count": 2,
   "id": "92b44c1d",
   "metadata": {},
   "outputs": [],
   "source": [
    "ROOT_PATH = os.path.abspath(os.path.join(os.getcwd(), os.pardir))\n",
    "sys.path = sys.path if ROOT_PATH in sys.path else [ROOT_PATH] + sys.path"
   ]
  },
  {
   "cell_type": "code",
   "execution_count": 3,
   "id": "d4a97023",
   "metadata": {},
   "outputs": [],
   "source": [
    "from COMA.properties import similarity"
   ]
  },
  {
   "cell_type": "code",
   "execution_count": 4,
   "id": "cd808561",
   "metadata": {},
   "outputs": [],
   "source": [
    "PROPERTY_NAME = 'abcg2'"
   ]
  },
  {
   "cell_type": "markdown",
   "id": "870a7a9f",
   "metadata": {},
   "source": [
    "# 1. Read data"
   ]
  },
  {
   "cell_type": "code",
   "execution_count": 5,
   "id": "90c5815d",
   "metadata": {},
   "outputs": [],
   "source": [
    "filepath_tr_trip = os.path.join(PROPERTY_NAME, 'rdkit_train_triplet.txt')\n",
    "filepath_tr_pair = os.path.join(PROPERTY_NAME, 'rdkit_train_pairs_full.csv')\n",
    "filepath_va = os.path.join(PROPERTY_NAME, 'rdkit_valid_full.csv')\n",
    "filepath_te = os.path.join(PROPERTY_NAME, 'rdkit_test_full.csv')"
   ]
  },
  {
   "cell_type": "code",
   "execution_count": 6,
   "id": "8da35fd7",
   "metadata": {},
   "outputs": [],
   "source": [
    "df_tr_trip = pd.read_csv(filepath_tr_trip, header=None, sep=' ')\n",
    "df_tr_pair = pd.read_csv(filepath_tr_pair)\n",
    "df_va = pd.read_csv(filepath_va)\n",
    "df_te = pd.read_csv(filepath_te)"
   ]
  },
  {
   "cell_type": "code",
   "execution_count": 7,
   "id": "548a0def",
   "metadata": {},
   "outputs": [],
   "source": [
    "df_tr_src = df_tr_pair.loc[:,['SMILES_src', 'Q9UNQ0_src']].drop_duplicates()\n",
    "df_tr_tar = df_tr_pair.loc[:,['SMILES_tar', 'Q9UNQ0_tar']].drop_duplicates()"
   ]
  },
  {
   "cell_type": "code",
   "execution_count": 8,
   "id": "14b3e8d4",
   "metadata": {},
   "outputs": [
    {
     "name": "stdout",
     "output_type": "stream",
     "text": [
      "Number of Triplets  : (4612380, 3)\n",
      "Number of Pairs     : (230619, 7)\n",
      "Number of Sources   : (13840, 2)\n",
      "Number of Targets   : (2340, 2)\n",
      "Number of Negatives : (16180,)\n"
     ]
    }
   ],
   "source": [
    "print(f\"Number of Triplets  : {df_tr_trip.shape}\")\n",
    "print(f\"Number of Pairs     : {df_tr_pair.shape}\")\n",
    "print(f\"Number of Sources   : {df_tr_src.shape}\")\n",
    "print(f\"Number of Targets   : {df_tr_tar.shape}\")\n",
    "print(f\"Number of Negatives : {df_tr_trip.iloc[:,2].drop_duplicates().shape}\")"
   ]
  },
  {
   "cell_type": "markdown",
   "id": "aa62598a",
   "metadata": {},
   "source": [
    "# 2. Property\n",
    "- Q9UNQ0 : ABCG2"
   ]
  },
  {
   "cell_type": "code",
   "execution_count": 9,
   "id": "3ee4d8b1",
   "metadata": {},
   "outputs": [
    {
     "name": "stdout",
     "output_type": "stream",
     "text": [
      "Range of abcg2 (src): 4.90 ~ 8.37\n",
      "Range of abcg2 (tar): 3.40 ~ 4.70\n"
     ]
    }
   ],
   "source": [
    "print(f\"Range of {PROPERTY_NAME} (src): {df_tr_src.iloc[:,1].min():.2f} ~ {df_tr_src.iloc[:,1].max():.2f}\")\n",
    "print(f\"Range of {PROPERTY_NAME} (tar): {df_tr_tar.iloc[:,1].min():.2f} ~ {df_tr_tar.iloc[:,1].max():.2f}\")"
   ]
  },
  {
   "cell_type": "code",
   "execution_count": 10,
   "id": "faeb1881",
   "metadata": {},
   "outputs": [
    {
     "name": "stdout",
     "output_type": "stream",
     "text": [
      "Average of abcg2 (src): 5.63 (0.57)\n",
      "Average of abcg2 (tar): 4.34 (0.22)\n"
     ]
    }
   ],
   "source": [
    "print(f\"Average of {PROPERTY_NAME} (src): {df_tr_src.iloc[:,1].mean():.2f} ({df_tr_src.iloc[:,1].std():.2f})\")\n",
    "print(f\"Average of {PROPERTY_NAME} (tar): {df_tr_tar.iloc[:,1].mean():.2f} ({df_tr_tar.iloc[:,1].std():.2f})\")"
   ]
  },
  {
   "cell_type": "markdown",
   "id": "b31ac7f7",
   "metadata": {},
   "source": [
    "# 3. Similarity & Improvement"
   ]
  },
  {
   "cell_type": "code",
   "execution_count": 11,
   "id": "a497ca0d",
   "metadata": {},
   "outputs": [
    {
     "data": {
      "text/html": [
       "<div>\n",
       "<style scoped>\n",
       "    .dataframe tbody tr th:only-of-type {\n",
       "        vertical-align: middle;\n",
       "    }\n",
       "\n",
       "    .dataframe tbody tr th {\n",
       "        vertical-align: top;\n",
       "    }\n",
       "\n",
       "    .dataframe thead th {\n",
       "        text-align: right;\n",
       "    }\n",
       "</style>\n",
       "<table border=\"1\" class=\"dataframe\">\n",
       "  <thead>\n",
       "    <tr style=\"text-align: right;\">\n",
       "      <th></th>\n",
       "      <th>SMILES_src</th>\n",
       "      <th>SMILES_tar</th>\n",
       "      <th>P15056_src</th>\n",
       "      <th>P15056_tar</th>\n",
       "      <th>Q9UNQ0_src</th>\n",
       "      <th>Q9UNQ0_tar</th>\n",
       "      <th>TANIMOTO</th>\n",
       "    </tr>\n",
       "  </thead>\n",
       "  <tbody>\n",
       "    <tr>\n",
       "      <th>0</th>\n",
       "      <td>CC1=CC=C(C(=O)NC2=CC=C(Br)C=C2)C=C1S(=O)(=O)NC...</td>\n",
       "      <td>O=C(NC1=CC=C2C=CC=NC2=C1)C1=CC=C(Br)C=C1</td>\n",
       "      <td>6.891558</td>\n",
       "      <td>6.526552</td>\n",
       "      <td>5.380080</td>\n",
       "      <td>4.581529</td>\n",
       "      <td>0.440678</td>\n",
       "    </tr>\n",
       "    <tr>\n",
       "      <th>1</th>\n",
       "      <td>CC1=CC=C(C(=O)NC2=CC=CC(C(F)(F)F)=C2)C=C1NC(=O...</td>\n",
       "      <td>O=C(NC1=CC=CC(C(F)(F)F)=C1)C1=CC=CC(NC(=O)C2=C...</td>\n",
       "      <td>6.346293</td>\n",
       "      <td>6.541248</td>\n",
       "      <td>5.036449</td>\n",
       "      <td>4.431240</td>\n",
       "      <td>0.455882</td>\n",
       "    </tr>\n",
       "    <tr>\n",
       "      <th>2</th>\n",
       "      <td>O=C(NC1=CC=C(Br)C=C1)C1=CC=C(C(F)(F)P(=O)(O)O)...</td>\n",
       "      <td>O=C(NC1=CC=C(Cl)C=C1)C1=CC=CC=C1</td>\n",
       "      <td>6.936429</td>\n",
       "      <td>6.513035</td>\n",
       "      <td>6.975090</td>\n",
       "      <td>3.876176</td>\n",
       "      <td>0.414634</td>\n",
       "    </tr>\n",
       "    <tr>\n",
       "      <th>3</th>\n",
       "      <td>O=C(NC1=CC=CC=C1)C1=CC=C(C(F)(F)P(=O)(O)O)C=C1</td>\n",
       "      <td>O=C(NC1=CC=CC=C1)C1=CC=CC=N1</td>\n",
       "      <td>6.985357</td>\n",
       "      <td>6.564551</td>\n",
       "      <td>6.571701</td>\n",
       "      <td>4.124291</td>\n",
       "      <td>0.410256</td>\n",
       "    </tr>\n",
       "    <tr>\n",
       "      <th>4</th>\n",
       "      <td>CC1=CC=C(NC(=O)C2=CC=CC(C(F)(F)F)=C2)C=C1C(=O)...</td>\n",
       "      <td>O=C(NC1=CC=CC(OC2CCCN(C(=O)C3=CC=CN=C3)C2)=C1)...</td>\n",
       "      <td>6.323243</td>\n",
       "      <td>6.250835</td>\n",
       "      <td>5.237891</td>\n",
       "      <td>4.411502</td>\n",
       "      <td>0.412500</td>\n",
       "    </tr>\n",
       "    <tr>\n",
       "      <th>...</th>\n",
       "      <td>...</td>\n",
       "      <td>...</td>\n",
       "      <td>...</td>\n",
       "      <td>...</td>\n",
       "      <td>...</td>\n",
       "      <td>...</td>\n",
       "      <td>...</td>\n",
       "    </tr>\n",
       "    <tr>\n",
       "      <th>230614</th>\n",
       "      <td>CCC1=CC=C(NC(=O)NC2=CC=C3C=CC=CC3=C2)C=C1</td>\n",
       "      <td>O=C(NC1=CC=C2C=CC=CC2=C1)C1=CC=CC=C1SSC1=CC=CC...</td>\n",
       "      <td>6.213083</td>\n",
       "      <td>6.280292</td>\n",
       "      <td>4.956615</td>\n",
       "      <td>4.374473</td>\n",
       "      <td>0.454545</td>\n",
       "    </tr>\n",
       "    <tr>\n",
       "      <th>230615</th>\n",
       "      <td>O=C(NC1=CC=C(OC(F)(F)Cl)C=C1)C1=CN=C(N2CC(O)C2...</td>\n",
       "      <td>NC1CN(C2=CC=C(C(=O)NC3=CC=C(OC(F)(F)Cl)C=C3)C=...</td>\n",
       "      <td>6.811960</td>\n",
       "      <td>6.630232</td>\n",
       "      <td>5.450017</td>\n",
       "      <td>4.665955</td>\n",
       "      <td>0.640000</td>\n",
       "    </tr>\n",
       "    <tr>\n",
       "      <th>230616</th>\n",
       "      <td>O=C(NCC1=CC=CC=C1)NC1=CC=C2C=NC=CC2=C1</td>\n",
       "      <td>COC1=CC=C(NC(=O)NCC2=CC=CN=C2)C(OC)=C1</td>\n",
       "      <td>6.998187</td>\n",
       "      <td>6.272488</td>\n",
       "      <td>5.178164</td>\n",
       "      <td>4.333024</td>\n",
       "      <td>0.431034</td>\n",
       "    </tr>\n",
       "    <tr>\n",
       "      <th>230617</th>\n",
       "      <td>O=C(NC1=CC(O)=NC(O)=N1)C1=CC=CC(C(F)(F)F)=C1</td>\n",
       "      <td>COC(=O)C1=CC=CC(NC(=O)C2=CC=CC(C(F)(F)F)=C2)=C1N</td>\n",
       "      <td>6.241566</td>\n",
       "      <td>6.441089</td>\n",
       "      <td>4.939745</td>\n",
       "      <td>4.039503</td>\n",
       "      <td>0.454545</td>\n",
       "    </tr>\n",
       "    <tr>\n",
       "      <th>230618</th>\n",
       "      <td>COC1=CC(C(=O)NC2=CC=C(NC(=O)C3=CC=C(F)C=C3)C=C...</td>\n",
       "      <td>O=C(NC1=CC=C(Cl)N=C1)C1=CC=C(F)C=C1</td>\n",
       "      <td>6.260725</td>\n",
       "      <td>6.598723</td>\n",
       "      <td>5.034390</td>\n",
       "      <td>4.042706</td>\n",
       "      <td>0.466667</td>\n",
       "    </tr>\n",
       "  </tbody>\n",
       "</table>\n",
       "<p>230619 rows × 7 columns</p>\n",
       "</div>"
      ],
      "text/plain": [
       "                                               SMILES_src  \\\n",
       "0       CC1=CC=C(C(=O)NC2=CC=C(Br)C=C2)C=C1S(=O)(=O)NC...   \n",
       "1       CC1=CC=C(C(=O)NC2=CC=CC(C(F)(F)F)=C2)C=C1NC(=O...   \n",
       "2       O=C(NC1=CC=C(Br)C=C1)C1=CC=C(C(F)(F)P(=O)(O)O)...   \n",
       "3          O=C(NC1=CC=CC=C1)C1=CC=C(C(F)(F)P(=O)(O)O)C=C1   \n",
       "4       CC1=CC=C(NC(=O)C2=CC=CC(C(F)(F)F)=C2)C=C1C(=O)...   \n",
       "...                                                   ...   \n",
       "230614          CCC1=CC=C(NC(=O)NC2=CC=C3C=CC=CC3=C2)C=C1   \n",
       "230615  O=C(NC1=CC=C(OC(F)(F)Cl)C=C1)C1=CN=C(N2CC(O)C2...   \n",
       "230616             O=C(NCC1=CC=CC=C1)NC1=CC=C2C=NC=CC2=C1   \n",
       "230617       O=C(NC1=CC(O)=NC(O)=N1)C1=CC=CC(C(F)(F)F)=C1   \n",
       "230618  COC1=CC(C(=O)NC2=CC=C(NC(=O)C3=CC=C(F)C=C3)C=C...   \n",
       "\n",
       "                                               SMILES_tar  P15056_src  \\\n",
       "0                O=C(NC1=CC=C2C=CC=NC2=C1)C1=CC=C(Br)C=C1    6.891558   \n",
       "1       O=C(NC1=CC=CC(C(F)(F)F)=C1)C1=CC=CC(NC(=O)C2=C...    6.346293   \n",
       "2                        O=C(NC1=CC=C(Cl)C=C1)C1=CC=CC=C1    6.936429   \n",
       "3                            O=C(NC1=CC=CC=C1)C1=CC=CC=N1    6.985357   \n",
       "4       O=C(NC1=CC=CC(OC2CCCN(C(=O)C3=CC=CN=C3)C2)=C1)...    6.323243   \n",
       "...                                                   ...         ...   \n",
       "230614  O=C(NC1=CC=C2C=CC=CC2=C1)C1=CC=CC=C1SSC1=CC=CC...    6.213083   \n",
       "230615  NC1CN(C2=CC=C(C(=O)NC3=CC=C(OC(F)(F)Cl)C=C3)C=...    6.811960   \n",
       "230616             COC1=CC=C(NC(=O)NCC2=CC=CN=C2)C(OC)=C1    6.998187   \n",
       "230617   COC(=O)C1=CC=CC(NC(=O)C2=CC=CC(C(F)(F)F)=C2)=C1N    6.241566   \n",
       "230618                O=C(NC1=CC=C(Cl)N=C1)C1=CC=C(F)C=C1    6.260725   \n",
       "\n",
       "        P15056_tar  Q9UNQ0_src  Q9UNQ0_tar  TANIMOTO  \n",
       "0         6.526552    5.380080    4.581529  0.440678  \n",
       "1         6.541248    5.036449    4.431240  0.455882  \n",
       "2         6.513035    6.975090    3.876176  0.414634  \n",
       "3         6.564551    6.571701    4.124291  0.410256  \n",
       "4         6.250835    5.237891    4.411502  0.412500  \n",
       "...            ...         ...         ...       ...  \n",
       "230614    6.280292    4.956615    4.374473  0.454545  \n",
       "230615    6.630232    5.450017    4.665955  0.640000  \n",
       "230616    6.272488    5.178164    4.333024  0.431034  \n",
       "230617    6.441089    4.939745    4.039503  0.454545  \n",
       "230618    6.598723    5.034390    4.042706  0.466667  \n",
       "\n",
       "[230619 rows x 7 columns]"
      ]
     },
     "execution_count": 11,
     "metadata": {},
     "output_type": "execute_result"
    }
   ],
   "source": [
    "df_tr_pair"
   ]
  },
  {
   "cell_type": "code",
   "execution_count": 12,
   "id": "cfc7e176",
   "metadata": {},
   "outputs": [],
   "source": [
    "df_tr_pair_ = df_tr_pair.copy()\n",
    "df_tr_pair_.loc[:,'IMPROVEMENT'] = df_tr_pair_.loc[:,'Q9UNQ0_tar'] - df_tr_pair_.loc[:,'Q9UNQ0_src']"
   ]
  },
  {
   "cell_type": "code",
   "execution_count": 13,
   "id": "0ccc87c6",
   "metadata": {},
   "outputs": [
    {
     "name": "stdout",
     "output_type": "stream",
     "text": [
      "Range of Similarity (src,tar): 0.40 ~ 1.00\n",
      "Range of Improvement (tar-src): -4.85 ~ -0.20\n"
     ]
    }
   ],
   "source": [
    "print(f\"Range of Similarity (src,tar): {df_tr_pair_.loc[:,'TANIMOTO'].min():.2f} ~ {df_tr_pair_.loc[:,'TANIMOTO'].max():.2f}\")\n",
    "print(f\"Range of Improvement (tar-src): {df_tr_pair_.loc[:,'IMPROVEMENT'].min():.2f} ~ {df_tr_pair_.loc[:,'IMPROVEMENT'].max():.2f}\")"
   ]
  },
  {
   "cell_type": "code",
   "execution_count": 14,
   "id": "bca4e853",
   "metadata": {},
   "outputs": [
    {
     "name": "stdout",
     "output_type": "stream",
     "text": [
      "Average of Similarity (src,tar) : 0.46 (0.06)\n",
      "Average of Improvement (tar-src): -1.15 (0.56)\n"
     ]
    }
   ],
   "source": [
    "print(f\"Average of Similarity (src,tar) : {df_tr_pair_.loc[:,'TANIMOTO'].mean():.2f} ({df_tr_pair_.loc[:,'TANIMOTO'].std():.2f})\")\n",
    "print(f\"Average of Improvement (tar-src): {df_tr_pair_.loc[:,'IMPROVEMENT'].mean():.2f} ({df_tr_pair_.loc[:,'IMPROVEMENT'].std():.2f})\")"
   ]
  },
  {
   "cell_type": "code",
   "execution_count": 15,
   "id": "48a07b05",
   "metadata": {},
   "outputs": [
    {
     "name": "stderr",
     "output_type": "stream",
     "text": [
      "100%|██████████| 4612380/4612380 [26:22:01<00:00, 48.59it/s]   \n"
     ]
    }
   ],
   "source": [
    "df_tr_trip_ = df_tr_trip.copy()\n",
    "df_tr_trip_.loc[:,3] = 0.\n",
    "df_tr_trip_.loc[:,4] = 0.\n",
    "\n",
    "for i in tqdm.trange(len(df_tr_trip_)):\n",
    "    smi_src = df_tr_trip_.iloc[i,0]\n",
    "    smi_tar = df_tr_trip_.iloc[i,1]\n",
    "    smi_neg = df_tr_trip_.iloc[i,2]\n",
    "    ## similarity\n",
    "    sim_1 = similarity(smi_src, smi_neg)\n",
    "    sim_2 = similarity(smi_tar, smi_neg)\n",
    "    df_tr_trip_.iloc[i,3] = sim_1\n",
    "    df_tr_trip_.iloc[i,4] = sim_2"
   ]
  },
  {
   "cell_type": "code",
   "execution_count": 16,
   "id": "8500b11a",
   "metadata": {},
   "outputs": [
    {
     "name": "stdout",
     "output_type": "stream",
     "text": [
      "Range of Similarity (src,neg): 0.04 ~ 0.30\n",
      "Range of Similarity (tar,neg): 0.04 ~ 0.30\n"
     ]
    }
   ],
   "source": [
    "print(f\"Range of Similarity (src,neg): {df_tr_trip_.iloc[:,3].min():.2f} ~ {df_tr_trip_.iloc[:,3].max():.2f}\")\n",
    "print(f\"Range of Similarity (tar,neg): {df_tr_trip_.iloc[:,4].min():.2f} ~ {df_tr_trip_.iloc[:,4].max():.2f}\")"
   ]
  },
  {
   "cell_type": "code",
   "execution_count": null,
   "id": "1fe7dcce",
   "metadata": {},
   "outputs": [],
   "source": []
  }
 ],
 "metadata": {
  "kernelspec": {
   "display_name": "Python 3",
   "language": "python",
   "name": "python3"
  },
  "language_info": {
   "codemirror_mode": {
    "name": "ipython",
    "version": 3
   },
   "file_extension": ".py",
   "mimetype": "text/x-python",
   "name": "python",
   "nbconvert_exporter": "python",
   "pygments_lexer": "ipython3",
   "version": "3.6.15"
  }
 },
 "nbformat": 4,
 "nbformat_minor": 5
}
