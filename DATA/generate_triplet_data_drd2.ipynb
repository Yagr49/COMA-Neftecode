{
 "cells": [
  {
   "cell_type": "code",
   "execution_count": 1,
   "id": "438bb684",
   "metadata": {},
   "outputs": [],
   "source": [
    "import os\n",
    "import sys\n",
    "import pandas as pd\n",
    "import numpy as np\n",
    "import random\n",
    "from tqdm import tqdm"
   ]
  },
  {
   "cell_type": "code",
   "execution_count": 2,
   "id": "9613b2f7",
   "metadata": {},
   "outputs": [],
   "source": [
    "from rdkit import Chem, DataStructs\n",
    "from rdkit.Chem import AllChem"
   ]
  },
  {
   "cell_type": "code",
   "execution_count": 3,
   "id": "b27c8fc6",
   "metadata": {},
   "outputs": [
    {
     "name": "stdout",
     "output_type": "stream",
     "text": [
      "(34404, 2)\n",
      "(500, 1)\n",
      "(1000, 1)\n"
     ]
    }
   ],
   "source": [
    "PROPERTY_NAME = \"drd2\"\n",
    "\n",
    "df_train_pairs = pd.read_csv(os.path.join(PROPERTY_NAME, \"rdkit_train_pairs.txt\"), sep=\" \", header=None); print(df_train_pairs.shape)\n",
    "list_smi_src = df_train_pairs.iloc[:,0].values.tolist()\n",
    "list_smi_tar = df_train_pairs.iloc[:,1].values.tolist()\n",
    "\n",
    "df_valid = pd.read_csv(os.path.join(PROPERTY_NAME, \"rdkit_valid.txt\"), header=None); print(df_valid.shape)\n",
    "list_smi_valid = df_valid.iloc[:,0].values.tolist()\n",
    "\n",
    "df_test = pd.read_csv(os.path.join(PROPERTY_NAME, \"rdkit_test.txt\"), header=None); print(df_test.shape)\n",
    "list_smi_test = df_test.iloc[:,0].values.tolist()"
   ]
  },
  {
   "cell_type": "code",
   "execution_count": 6,
   "id": "437014a0",
   "metadata": {},
   "outputs": [
    {
     "name": "stdout",
     "output_type": "stream",
     "text": [
      "68808\n"
     ]
    }
   ],
   "source": [
    "list_smi_unique = list_smi_src + list_smi_tar\n",
    "print(len(list_smi_unique))"
   ]
  },
  {
   "cell_type": "code",
   "execution_count": 7,
   "id": "777a2b38",
   "metadata": {},
   "outputs": [
    {
     "name": "stderr",
     "output_type": "stream",
     "text": [
      "100%|██████████| 34404/34404 [26:04<00:00, 21.99it/s]\n"
     ]
    }
   ],
   "source": [
    "list_triplet = []\n",
    "K = 20\n",
    "\n",
    "for i, (smi_src, smi_tar) in tqdm(enumerate(zip(list_smi_src, list_smi_tar)), total=len(list_smi_src)):\n",
    "    batch_list_triplet = []\n",
    "    ## mol\n",
    "    mol_src = Chem.MolFromSmiles(smi_src)\n",
    "    mol_tar = Chem.MolFromSmiles(smi_tar)\n",
    "    ## fingerprint\n",
    "    fpt_src = AllChem.GetMorganFingerprintAsBitVect(mol_src, radius=2, nBits=2048, useChirality=False)\n",
    "    fpt_tar = AllChem.GetMorganFingerprintAsBitVect(mol_tar, radius=2, nBits=2048, useChirality=False)\n",
    "    \n",
    "    ## Shuffle\n",
    "    random.shuffle(list_smi_unique)\n",
    "    \n",
    "    for smi_neg in list_smi_unique:\n",
    "        mol_neg = Chem.MolFromSmiles(smi_neg)\n",
    "        fpt_neg = AllChem.GetMorganFingerprintAsBitVect(mol_neg, radius=2, nBits=2048, useChirality=False)\n",
    "        ## Tanimoto\n",
    "        sim_src = DataStructs.TanimotoSimilarity(fpt_src, fpt_neg)\n",
    "        sim_tar = DataStructs.TanimotoSimilarity(fpt_tar, fpt_neg)\n",
    "        ## check\n",
    "        if sim_src < 0.3 and sim_tar < 0.3:\n",
    "            batch_list_triplet.append((smi_src, smi_tar, smi_neg))\n",
    "        ## stop\n",
    "        if len(batch_list_triplet) == K:\n",
    "            break\n",
    "            \n",
    "    if len(batch_list_triplet) < K:\n",
    "        print(f\"[WARNING] {i} has insufficient data ({len(batch_list_triplet)} < {K})\")\n",
    "        \n",
    "    list_triplet.extend(batch_list_triplet)"
   ]
  },
  {
   "cell_type": "code",
   "execution_count": 8,
   "id": "37535590",
   "metadata": {},
   "outputs": [],
   "source": [
    "df_triplet = pd.DataFrame(list_triplet)\n",
    "\n",
    "df_triplet.to_csv(os.path.join(PROPERTY_NAME, \"rdkit_train_triplet.txt\"), sep=\" \", header=None, index=False)"
   ]
  },
  {
   "cell_type": "code",
   "execution_count": null,
   "id": "eb455b05",
   "metadata": {},
   "outputs": [],
   "source": []
  }
 ],
 "metadata": {
  "kernelspec": {
   "display_name": "Python 3",
   "language": "python",
   "name": "python3"
  },
  "language_info": {
   "codemirror_mode": {
    "name": "ipython",
    "version": 3
   },
   "file_extension": ".py",
   "mimetype": "text/x-python",
   "name": "python",
   "nbconvert_exporter": "python",
   "pygments_lexer": "ipython3",
   "version": "3.6.15"
  }
 },
 "nbformat": 4,
 "nbformat_minor": 5
}
